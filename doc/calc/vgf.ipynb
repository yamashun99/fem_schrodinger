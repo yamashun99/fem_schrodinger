{
 "cells": [
  {
   "cell_type": "code",
   "execution_count": 1,
   "metadata": {},
   "outputs": [
    {
     "name": "stdout",
     "output_type": "stream",
     "text": [
      "(x0 - x1)**4/12\n"
     ]
    }
   ],
   "source": [
    "from sympy import symbols, integrate, factor\n",
    "\n",
    "# 変数の定義\n",
    "x = symbols(\"x\")\n",
    "x0 = symbols(\"x0\")\n",
    "x1 = symbols(\"x1\")\n",
    "x2 = symbols(\"x2\")\n",
    "\n",
    "# 関数の定義\n",
    "f0 = (x - x0) * (x1 - x) ** 2\n",
    "\n",
    "# 定積分の実行\n",
    "result0 = integrate(f0, (x, x0, x1))\n",
    "\n",
    "# 因数分解\n",
    "result0 = factor(result0)\n",
    "\n",
    "# 結果の表示\n",
    "print(result0)"
   ]
  },
  {
   "cell_type": "code",
   "execution_count": 2,
   "metadata": {},
   "outputs": [
    {
     "name": "stdout",
     "output_type": "stream",
     "text": [
      "(x0 - x1)**4/12\n"
     ]
    }
   ],
   "source": [
    "# 関数の定義\n",
    "f0 = (x - x0) ** 2 * (x1 - x)\n",
    "\n",
    "# 定積分の実行\n",
    "result0 = integrate(f0, (x, x0, x1))\n",
    "\n",
    "# 因数分解\n",
    "result0 = factor(result0)\n",
    "\n",
    "# 結果の表示\n",
    "print(result0)"
   ]
  },
  {
   "cell_type": "code",
   "execution_count": 3,
   "metadata": {},
   "outputs": [
    {
     "name": "stdout",
     "output_type": "stream",
     "text": [
      "(x0 - x1)**4/4\n"
     ]
    }
   ],
   "source": [
    "# 関数の定義\n",
    "f0 = (x - x0) ** 3\n",
    "\n",
    "# 定積分の実行\n",
    "result0 = integrate(f0, (x, x0, x1))\n",
    "\n",
    "# 因数分解\n",
    "result0 = factor(result0)\n",
    "\n",
    "# 結果の表示\n",
    "print(result0)"
   ]
  }
 ],
 "metadata": {
  "kernelspec": {
   "display_name": "physicsenv",
   "language": "python",
   "name": "python3"
  },
  "language_info": {
   "codemirror_mode": {
    "name": "ipython",
    "version": 3
   },
   "file_extension": ".py",
   "mimetype": "text/x-python",
   "name": "python",
   "nbconvert_exporter": "python",
   "pygments_lexer": "ipython3",
   "version": "3.10.12"
  }
 },
 "nbformat": 4,
 "nbformat_minor": 2
}
