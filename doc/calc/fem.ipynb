{
 "cells": [
  {
   "cell_type": "code",
   "execution_count": 8,
   "metadata": {},
   "outputs": [
    {
     "name": "stdout",
     "output_type": "stream",
     "text": [
      "(3*h0 + h1)*(x0 - x1)**4/12\n",
      "(h0 + h1)*(x0 - x1)**4/12\n",
      "(h0 + 3*h1)*(x0 - x1)**4/12\n"
     ]
    }
   ],
   "source": [
    "from sympy import symbols, integrate, factor\n",
    "\n",
    "# 変数の定義\n",
    "x = symbols(\"x\")\n",
    "x0 = symbols(\"x0\")\n",
    "x1 = symbols(\"x1\")\n",
    "h0 = symbols(\"h0\")\n",
    "h1 = symbols(\"h1\")\n",
    "\n",
    "# 関数の定義\n",
    "f00 = (x1 - x) ** 3 * h0 + (x1 - x) ** 2 * (x - x0) * h1\n",
    "f01 = (x1 - x) ** 2 * (x - x0) * h0 + (x1 - x) * (x - x0) ** 2 * h1\n",
    "f11 = (x - x0) ** 2 * (x1 - x) * h0 + (x - x0) ** 3 * h1\n",
    "\n",
    "# 定積分の実行\n",
    "result00 = integrate(f00, (x, x0, x1))\n",
    "result01 = integrate(f01, (x, x0, x1))\n",
    "result11 = integrate(f11, (x, x0, x1))\n",
    "\n",
    "# 因数分解\n",
    "result00 = factor(result00)\n",
    "result01 = factor(result01)\n",
    "result11 = factor(result11)\n",
    "\n",
    "# 結果の表示\n",
    "print(result00)\n",
    "print(result01)\n",
    "print(result11)"
   ]
  },
  {
   "cell_type": "code",
   "execution_count": null,
   "metadata": {},
   "outputs": [],
   "source": []
  }
 ],
 "metadata": {
  "kernelspec": {
   "display_name": "physicsenv",
   "language": "python",
   "name": "python3"
  },
  "language_info": {
   "codemirror_mode": {
    "name": "ipython",
    "version": 3
   },
   "file_extension": ".py",
   "mimetype": "text/x-python",
   "name": "python",
   "nbconvert_exporter": "python",
   "pygments_lexer": "ipython3",
   "version": "3.10.12"
  }
 },
 "nbformat": 4,
 "nbformat_minor": 2
}
