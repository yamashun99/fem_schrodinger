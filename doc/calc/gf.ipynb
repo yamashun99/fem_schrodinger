{
 "cells": [
  {
   "cell_type": "code",
   "execution_count": 137,
   "metadata": {},
   "outputs": [],
   "source": [
    "from sympy import symbols, Piecewise, init_printing, integrate, factor, diff\n",
    "\n",
    "# 初期化\n",
    "init_printing(use_unicode=True)\n",
    "\n",
    "# シンボル定義\n",
    "x, h, x0, x1, f0, f1, f2, g0, g1, g2, c0, c1, c2 = symbols(\n",
    "    \"x h x_0 x_1 f_0 f_1 f_2 g_0 g_1 g_2, c_0 c_1 c_2\"\n",
    ")\n",
    "alpha0, alpha1, beta0, beta1, gamma0, gamma1 = symbols(\n",
    "    \"alpha_0 alpha_1 beta_0 beta_1 gamma_0 gamma_1\"\n",
    ")"
   ]
  },
  {
   "cell_type": "code",
   "execution_count": 138,
   "metadata": {},
   "outputs": [],
   "source": [
    "f = (x1 - x) / h * f0 + (x - x0) / h * f1\n",
    "g = (x1 - x) / h * g0 + (x - x0) / h * g1\n",
    "c = (x1 - x) / h * c0 + (x - x0) / h * c1\n",
    "alpha = (x1 - x) / h * alpha0 + (x - x0) / h * alpha1\n",
    "beta = (x1 - x) / h * beta0 + (x - x0) / h * beta1\n",
    "gamma = (x1 - x) / h * gamma0 + (x - x0) / h * gamma1"
   ]
  },
  {
   "cell_type": "code",
   "execution_count": 139,
   "metadata": {},
   "outputs": [
    {
     "data": {
      "image/png": "[encoded data removed]",
      "text/latex": [
       "$\\displaystyle \\frac{\\left(c_{0} + c_{1}\\right) \\left(f_{0} - f_{1}\\right) \\left(g_{0} - g_{1}\\right) \\left(x_{0} - x_{1}\\right)^{2}}{2 h^{3}}$"
      ],
      "text/plain": [
       "                                       2\n",
       "(c₀ + c₁)⋅(f₀ - f₁)⋅(g₀ - g₁)⋅(x₀ - x₁) \n",
       "────────────────────────────────────────\n",
       "                     3                  \n",
       "                  2⋅h                   "
      ]
     },
     "execution_count": 139,
     "metadata": {},
     "output_type": "execute_result"
    }
   ],
   "source": [
    "result = integrate(diff(g, x) * c * diff(f, x), (x, x0, x1))\n",
    "factor(result)"
   ]
  },
  {
   "cell_type": "code",
   "execution_count": 140,
   "metadata": {},
   "outputs": [
    {
     "data": {
      "image/png": "[encoded data removed]",
      "text/latex": [
       "$\\displaystyle \\frac{\\left(f_{0} - f_{1}\\right) \\left(x_{0} - x_{1}\\right)^{3} \\cdot \\left(2 \\alpha_{0} g_{0} + \\alpha_{0} g_{1} + \\alpha_{1} g_{0} + 2 \\alpha_{1} g_{1}\\right)}{6 h^{3}}$"
      ],
      "text/plain": [
       "                   3                                    \n",
       "(f₀ - f₁)⋅(x₀ - x₁) ⋅(2⋅α₀⋅g₀ + α₀⋅g₁ + α₁⋅g₀ + 2⋅α₁⋅g₁)\n",
       "────────────────────────────────────────────────────────\n",
       "                             3                          \n",
       "                          6⋅h                           "
      ]
     },
     "execution_count": 140,
     "metadata": {},
     "output_type": "execute_result"
    }
   ],
   "source": [
    "result = integrate(g * alpha * diff(f, x), (x, x0, x1))\n",
    "factor(result)"
   ]
  },
  {
   "cell_type": "code",
   "execution_count": 141,
   "metadata": {},
   "outputs": [
    {
     "data": {
      "image/png": "[encoded data removed]",
      "text/latex": [
       "$\\displaystyle \\frac{\\left(x_{0} - x_{1}\\right)^{4} \\cdot \\left(3 \\beta_{0} f_{0} g_{0} + \\beta_{0} f_{0} g_{1} + \\beta_{0} f_{1} g_{0} + \\beta_{0} f_{1} g_{1} + \\beta_{1} f_{0} g_{0} + \\beta_{1} f_{0} g_{1} + \\beta_{1} f_{1} g_{0} + 3 \\beta_{1} f_{1} g_{1}\\right)}{12 h^{3}}$"
      ],
      "text/plain": [
       "         4                                                                    \n",
       "(x₀ - x₁) ⋅(3⋅β₀⋅f₀⋅g₀ + β₀⋅f₀⋅g₁ + β₀⋅f₁⋅g₀ + β₀⋅f₁⋅g₁ + β₁⋅f₀⋅g₀ + β₁⋅f₀⋅g₁ \n",
       "──────────────────────────────────────────────────────────────────────────────\n",
       "                                                    3                         \n",
       "                                                12⋅h                          \n",
       "\n",
       "                        \n",
       "+ β₁⋅f₁⋅g₀ + 3⋅β₁⋅f₁⋅g₁)\n",
       "────────────────────────\n",
       "                        \n",
       "                        "
      ]
     },
     "execution_count": 141,
     "metadata": {},
     "output_type": "execute_result"
    }
   ],
   "source": [
    "result = integrate(g * beta * f, (x, x0, x1))\n",
    "factor(result)"
   ]
  },
  {
   "cell_type": "code",
   "execution_count": 142,
   "metadata": {},
   "outputs": [
    {
     "data": {
      "image/png": "[encoded data removed]",
      "text/latex": [
       "$\\displaystyle \\frac{\\left(x_{0} - x_{1}\\right)^{4} \\cdot \\left(3 f_{0} g_{0} \\gamma_{0} + f_{0} g_{0} \\gamma_{1} + f_{0} g_{1} \\gamma_{0} + f_{0} g_{1} \\gamma_{1} + f_{1} g_{0} \\gamma_{0} + f_{1} g_{0} \\gamma_{1} + f_{1} g_{1} \\gamma_{0} + 3 f_{1} g_{1} \\gamma_{1}\\right)}{12 h^{3}}$"
      ],
      "text/plain": [
       "         4                                                                    \n",
       "(x₀ - x₁) ⋅(3⋅f₀⋅g₀⋅γ₀ + f₀⋅g₀⋅γ₁ + f₀⋅g₁⋅γ₀ + f₀⋅g₁⋅γ₁ + f₁⋅g₀⋅γ₀ + f₁⋅g₀⋅γ₁ \n",
       "──────────────────────────────────────────────────────────────────────────────\n",
       "                                                    3                         \n",
       "                                                12⋅h                          \n",
       "\n",
       "                        \n",
       "+ f₁⋅g₁⋅γ₀ + 3⋅f₁⋅g₁⋅γ₁)\n",
       "────────────────────────\n",
       "                        \n",
       "                        "
      ]
     },
     "execution_count": 142,
     "metadata": {},
     "output_type": "execute_result"
    }
   ],
   "source": [
    "result = integrate(g * gamma * f, (x, x0, x1))\n",
    "factor(result)"
   ]
  },
  {
   "cell_type": "code",
   "execution_count": 144,
   "metadata": {},
   "outputs": [],
   "source": [
    "f = (x1 - x) / h * f0 + (x - x0) / h * f1 - 4 / h**2 * (x1 - x) * (x - x0) * f2\n",
    "g = (x1 - x) / h * g0 + (x - x0) / h * g1 - 4 / h**2 * (x1 - x) * (x - x0) * g2\n",
    "c = (x1 - x) / h * c0 + (x - x0) / h * c1 - 4 / h**2 * (x1 - x) * (x - x0) * c2\n",
    "alpha = (x1 - x) / h * alpha0 + (x - x0) / h * alpha1\n",
    "beta = (x1 - x) / h * beta0 + (x - x0) / h * beta1\n",
    "gamma = (x1 - x) / h * gamma0 + (x - x0) / h * gamma1"
   ]
  },
  {
   "cell_type": "code",
   "execution_count": 145,
   "metadata": {},
   "outputs": [
    {
     "data": {
      "image/png": "[encoded data removed]",
      "text/latex": [
       "$\\displaystyle - \\frac{\\left(x_{0} - x_{1}\\right) \\left(3 f_{0} g_{0} h^{2} - 3 f_{0} g_{1} h^{2} - 3 f_{1} g_{0} h^{2} + 3 f_{1} g_{1} h^{2} + 16 f_{2} g_{2} x_{0}^{2} - 32 f_{2} g_{2} x_{0} x_{1} + 16 f_{2} g_{2} x_{1}^{2}\\right)}{3 h^{4}}$"
      ],
      "text/plain": [
       "           ⎛         2            2            2            2              2  \n",
       "-(x₀ - x₁)⋅⎝3⋅f₀⋅g₀⋅h  - 3⋅f₀⋅g₁⋅h  - 3⋅f₁⋅g₀⋅h  + 3⋅f₁⋅g₁⋅h  + 16⋅f₂⋅g₂⋅x₀  -\n",
       "──────────────────────────────────────────────────────────────────────────────\n",
       "                                                        4                     \n",
       "                                                     3⋅h                      \n",
       "\n",
       "                             2⎞ \n",
       " 32⋅f₂⋅g₂⋅x₀⋅x₁ + 16⋅f₂⋅g₂⋅x₁ ⎠ \n",
       "────────────────────────────────\n",
       "                                \n",
       "                                "
      ]
     },
     "execution_count": 145,
     "metadata": {},
     "output_type": "execute_result"
    }
   ],
   "source": [
    "result = integrate(diff(g, x) * diff(f, x), (x, x0, x1))\n",
    "factor(result)"
   ]
  },
  {
   "cell_type": "code",
   "execution_count": null,
   "metadata": {},
   "outputs": [],
   "source": []
  }
 ],
 "metadata": {
  "kernelspec": {
   "display_name": "gpawenv",
   "language": "python",
   "name": "python3"
  },
  "language_info": {
   "codemirror_mode": {
    "name": "ipython",
    "version": 3
   },
   "file_extension": ".py",
   "mimetype": "text/x-python",
   "name": "python",
   "nbconvert_exporter": "python",
   "pygments_lexer": "ipython3",
   "version": "3.10.12"
  }
 },
 "nbformat": 4,
 "nbformat_minor": 2
}
