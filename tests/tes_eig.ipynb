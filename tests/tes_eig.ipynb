{
 "cells": [
  {
   "cell_type": "code",
   "execution_count": 1,
   "metadata": {},
   "outputs": [],
   "source": [
    "import scipy.sparse as sp\n",
    "import scipy.sparse.linalg as splinalg\n",
    "import numpy as np"
   ]
  },
  {
   "cell_type": "code",
   "execution_count": 2,
   "metadata": {},
   "outputs": [],
   "source": [
    "# 疎行列の例\n",
    "size = 5  # 行列のサイズ\n",
    "diagonals = [2, 3, 4]  # 対角成分\n",
    "A = sp.diags(diagonals, offsets=[-1, 0, 1], shape=(size, size), format=\"csr\")"
   ]
  },
  {
   "cell_type": "code",
   "execution_count": 3,
   "metadata": {},
   "outputs": [],
   "source": [
    "# 固有値と固有ベクトルを計算\n",
    "eigenvalues, eigenvectors = splinalg.eigsh(A, k=size - 1)"
   ]
  },
  {
   "cell_type": "code",
   "execution_count": 4,
   "metadata": {},
   "outputs": [
    {
     "data": {
      "text/plain": [
       "array([-3.1427169 ,  4.14730805,  5.11408204,  9.18790708])"
      ]
     },
     "execution_count": 4,
     "metadata": {},
     "output_type": "execute_result"
    }
   ],
   "source": [
    "eigenvalues"
   ]
  },
  {
   "cell_type": "code",
   "execution_count": 5,
   "metadata": {},
   "outputs": [],
   "source": [
    "import numpy as np\n",
    "from scipy.sparse import coo_matrix\n",
    "\n",
    "\n",
    "class Mel1dSparse:\n",
    "    def __init__(self, xs):\n",
    "        self.size = len(xs)\n",
    "        self.xs = xs\n",
    "        self.xs_next = np.roll(xs, -1)\n",
    "        self.hs = self.xs_next - xs\n",
    "        self.hs = self.hs[:-1]\n",
    "\n",
    "    def get_K(self, c=None):\n",
    "        if c is None:\n",
    "            c = np.ones(self.size - 1)\n",
    "\n",
    "        row = []\n",
    "        col = []\n",
    "        data = []\n",
    "\n",
    "        for i in range(self.size):\n",
    "            if i == 0:\n",
    "                row.extend([i, i])\n",
    "                col.extend([i, i + 1])\n",
    "                data.extend([-1 / self.hs[i] * c[i], 1 / self.hs[i] * c[i]])\n",
    "            elif i == self.size - 1:\n",
    "                row.extend([i, i])\n",
    "                col.extend([i, i - 1])\n",
    "                data.extend(\n",
    "                    [-1 / self.hs[i - 1] * c[i - 1], 1 / self.hs[i - 1] * c[i - 1]]\n",
    "                )\n",
    "            else:\n",
    "                row.extend([i, i, i])\n",
    "                col.extend([i - 1, i, i + 1])\n",
    "                data.extend(\n",
    "                    [\n",
    "                        1 / self.hs[i - 1] * c[i - 1],\n",
    "                        -c[i - 1] / self.hs[i - 1] - c[i] / self.hs[i],\n",
    "                        c[i] / self.hs[i],\n",
    "                    ]\n",
    "                )\n",
    "\n",
    "        K_sparse = coo_matrix((data, (row, col)), shape=(self.size, self.size))\n",
    "        return K_sparse\n",
    "\n",
    "    def get_M(self, alpha=None):\n",
    "        if alpha is None:\n",
    "            alpha = np.ones(self.size - 1)\n",
    "\n",
    "        row = []\n",
    "        col = []\n",
    "        data = []\n",
    "\n",
    "        for i in range(self.size):\n",
    "            if i == 0:\n",
    "                row.extend([i, i])\n",
    "                col.extend([i, i + 1])\n",
    "                data.extend([self.hs[i] / 3 * alpha[i], self.hs[i] / 6 * alpha[i]])\n",
    "            elif i == self.size - 1:\n",
    "                row.extend([i, i])\n",
    "                col.extend([i - 1, i])\n",
    "                data.extend(\n",
    "                    [\n",
    "                        self.hs[i - 1] / 6 * alpha[i - 1],\n",
    "                        self.hs[i - 1] / 3 * alpha[i - 1],\n",
    "                    ]\n",
    "                )\n",
    "            else:\n",
    "                row.extend([i, i, i])\n",
    "                col.extend([i - 1, i, i + 1])\n",
    "                data.extend(\n",
    "                    [\n",
    "                        self.hs[i] / 6 * alpha[i - 1],\n",
    "                        self.hs[i] / 3 * (alpha[i - 1] + alpha[i]),\n",
    "                        self.hs[i] / 6 * alpha[i],\n",
    "                    ]\n",
    "                )\n",
    "\n",
    "        M_sparse = coo_matrix((data, (row, col)), shape=(self.size, self.size))\n",
    "        return M_sparse"
   ]
  },
  {
   "cell_type": "code",
   "execution_count": 6,
   "metadata": {},
   "outputs": [],
   "source": [
    "import numpy as np\n",
    "import matplotlib.pyplot as plt\n",
    "from scipy.constants import hbar, m_e, eV, epsilon_0, e, physical_constants\n",
    "from scipy.sparse.linalg import eigsh\n",
    "from scipy.linalg import eigh, eig\n",
    "import importlib"
   ]
  },
  {
   "cell_type": "code",
   "execution_count": 9,
   "metadata": {},
   "outputs": [],
   "source": [
    "xs = np.linspace(1e-20, 1e-9, 1000)\n",
    "x_centers = (xs[1:] + xs[:-1]) / 2\n",
    "v = -1 / x_centers\n",
    "femeig = Mel1dSparse(xs)\n",
    "K0 = femeig.get_K()\n",
    "M = femeig.get_M()\n",
    "K1 = femeig.get_M(v)"
   ]
  },
  {
   "cell_type": "code",
   "execution_count": 10,
   "metadata": {},
   "outputs": [
    {
     "data": {
      "text/plain": [
       "<1000x1000 sparse matrix of type '<class 'numpy.float64'>'\n",
       "\twith 2998 stored elements in COOrdinate format>"
      ]
     },
     "execution_count": 10,
     "metadata": {},
     "output_type": "execute_result"
    }
   ],
   "source": [
    "from scipy.sparse import csr_matrix\n",
    "\n",
    "# まずcoo_matrixからcsr_matrixへ変換\n",
    "K0_csr = csr_matrix(K0)\n",
    "M_csr = csr_matrix(M)\n",
    "K1_csr = csr_matrix(K1)\n",
    "\n",
    "# csr_matrixを使用してスライスする\n",
    "K0_dirichlet = K0_csr[1:-1, 1:-1]\n",
    "M_dirichlet = M_csr[1:-1, 1:-1]\n",
    "K1_dirichlet = K1_csr[1:-1, 1:-1]"
   ]
  },
  {
   "cell_type": "code",
   "execution_count": null,
   "metadata": {},
   "outputs": [],
   "source": [
    "K0_dirichlet = K0[1:-1, 1:-1]\n",
    "M_dirichlet = M[1:-1, 1:-1]\n",
    "K1_dirichlet = K1[1:-1, 1:-1]\n",
    "k = 3\n",
    "C0 = hbar**2 / (m_e)\n",
    "C1 = e**2 / (4 * np.pi * epsilon_0)\n",
    "val, vec = eigsh(\n",
    "    -1 / 2 * C0 * K0_dirichlet + C1 * K1_dirichlet,\n",
    "    k=k,\n",
    "    M=M_dirichlet,\n",
    "    which=\"LA\",\n",
    "    sigma=-20 * eV,\n",
    ")"
   ]
  },
  {
   "cell_type": "code",
   "execution_count": null,
   "metadata": {},
   "outputs": [],
   "source": []
  }
 ],
 "metadata": {
  "kernelspec": {
   "display_name": "gpawenv",
   "language": "python",
   "name": "python3"
  },
  "language_info": {
   "codemirror_mode": {
    "name": "ipython",
    "version": 3
   },
   "file_extension": ".py",
   "mimetype": "text/x-python",
   "name": "python",
   "nbconvert_exporter": "python",
   "pygments_lexer": "ipython3",
   "version": "3.10.12"
  }
 },
 "nbformat": 4,
 "nbformat_minor": 2
}
