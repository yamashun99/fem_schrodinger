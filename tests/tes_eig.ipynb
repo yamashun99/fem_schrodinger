{
 "cells": [
  {
   "cell_type": "code",
   "execution_count": 27,
   "metadata": {},
   "outputs": [],
   "source": [
    "import numpy as np\n",
    "from scipy.sparse import coo_matrix\n",
    "from scipy.sparse.linalg import cg"
   ]
  },
  {
   "cell_type": "code",
   "execution_count": 28,
   "metadata": {},
   "outputs": [],
   "source": [
    "# 疎行列 A の定義（対称かつ正定値である必要があります）\n",
    "data = np.array([4, 1, 1, 4])\n",
    "row_indices = np.array([0, 1, 1, 2])\n",
    "col_indices = np.array([0, 0, 1, 2])\n",
    "A = coo_matrix((data, (row_indices, col_indices)), shape=(3, 3))\n",
    "\n",
    "# ベクトル b の定義\n",
    "b = np.array([1, 2, 3])"
   ]
  },
  {
   "cell_type": "code",
   "execution_count": 29,
   "metadata": {},
   "outputs": [
    {
     "name": "stdout",
     "output_type": "stream",
     "text": [
      "解 x: [0.2499983  1.75000817 0.74999489]\n"
     ]
    }
   ],
   "source": [
    "x, info = cg(A, b)\n",
    "if info == 0:\n",
    "    print(\"解 x:\", x)\n",
    "else:\n",
    "    print(\"CG法が収束しなかった。情報:\", info)"
   ]
  },
  {
   "cell_type": "code",
   "execution_count": null,
   "metadata": {},
   "outputs": [],
   "source": []
  }
 ],
 "metadata": {
  "kernelspec": {
   "display_name": "gpawenv",
   "language": "python",
   "name": "python3"
  },
  "language_info": {
   "codemirror_mode": {
    "name": "ipython",
    "version": 3
   },
   "file_extension": ".py",
   "mimetype": "text/x-python",
   "name": "python",
   "nbconvert_exporter": "python",
   "pygments_lexer": "ipython3",
   "version": "3.10.12"
  }
 },
 "nbformat": 4,
 "nbformat_minor": 2
}
