{
 "cells": [
  {
   "cell_type": "code",
   "execution_count": 53,
   "metadata": {},
   "outputs": [],
   "source": [
    "import sys\n",
    "\n",
    "sys.path.append(\"../../src/2d\")"
   ]
  },
  {
   "cell_type": "code",
   "execution_count": 54,
   "metadata": {},
   "outputs": [],
   "source": [
    "import matrix_element_sparse\n",
    "import importlib\n",
    "from scipy.sparse.linalg import cg\n",
    "import numpy as np\n",
    "import matplotlib.pyplot as plt\n",
    "import plotly.graph_objects as go\n",
    "\n",
    "importlib.reload(matrix_element_sparse)\n",
    "from matrix_element_sparse import *"
   ]
  },
  {
   "cell_type": "code",
   "execution_count": 55,
   "metadata": {},
   "outputs": [
    {
     "data": {
      "text/plain": [
       "array([0.        , 0.05263158, 0.10526316, 0.15789474, 0.21052632,\n",
       "       0.26315789, 0.31578947, 0.36842105, 0.42105263, 0.47368421,\n",
       "       0.52631579, 0.57894737, 0.63157895, 0.68421053, 0.73684211,\n",
       "       0.78947368, 0.84210526, 0.89473684, 0.94736842, 1.        ])"
      ]
     },
     "execution_count": 55,
     "metadata": {},
     "output_type": "execute_result"
    }
   ],
   "source": [
    "m, n = 20, 20\n",
    "x = np.linspace(0, 1, m)\n",
    "y = np.linspace(0, 1, n)\n",
    "x"
   ]
  },
  {
   "cell_type": "code",
   "execution_count": 56,
   "metadata": {},
   "outputs": [],
   "source": [
    "mel = Mel2d(x, y)"
   ]
  },
  {
   "cell_type": "code",
   "execution_count": 57,
   "metadata": {},
   "outputs": [],
   "source": [
    "p, t, b = mel.generate_mesh()"
   ]
  },
  {
   "cell_type": "code",
   "execution_count": 58,
   "metadata": {},
   "outputs": [],
   "source": [
    "K = mel.stiffness_matrix()\n",
    "\n",
    "f = mel.force()"
   ]
  },
  {
   "cell_type": "code",
   "execution_count": 59,
   "metadata": {},
   "outputs": [
    {
     "name": "stderr",
     "output_type": "stream",
     "text": [
      "/home/yamamoto/venvs/physics/lib/python3.10/site-packages/scipy/sparse/_index.py:145: SparseEfficiencyWarning:\n",
      "\n",
      "Changing the sparsity structure of a csr_matrix is expensive. lil_matrix is more efficient.\n",
      "\n"
     ]
    }
   ],
   "source": [
    "for i in b:\n",
    "    K[i] = 0\n",
    "    K[i, i] = 1\n",
    "    f[i] = 0"
   ]
  },
  {
   "cell_type": "code",
   "execution_count": 60,
   "metadata": {},
   "outputs": [],
   "source": [
    "U, info = cg(K, f)"
   ]
  },
  {
   "cell_type": "code",
   "execution_count": 61,
   "metadata": {},
   "outputs": [
    {
     "data": {
      "text/plain": [
       "(400, 400)"
      ]
     },
     "execution_count": 61,
     "metadata": {},
     "output_type": "execute_result"
    }
   ],
   "source": [
    "K.shape"
   ]
  },
  {
   "cell_type": "code",
   "execution_count": 62,
   "metadata": {},
   "outputs": [
    {
     "data": {
      "text/plain": [
       "<matplotlib.image.AxesImage at 0x79a649b2fcd0>"
      ]
     },
     "execution_count": 62,
     "metadata": {},
     "output_type": "execute_result"
    },
    {
     "data": {
      "image/png": "[encoded data removed]",
      "text/plain": [
       "<Figure size 640x480 with 1 Axes>"
      ]
     },
     "metadata": {},
     "output_type": "display_data"
    }
   ],
   "source": [
    "fig, ax = plt.subplots()\n",
    "ax.imshow(U.reshape(m, n))"
   ]
  },
  {
   "cell_type": "code",
   "execution_count": 64,
   "metadata": {},
   "outputs": [
    {
     "data": {
      "application/vnd.plotly.v1+json": {
       "config": {
        "plotlyServerURL": "https://plot.ly"
       },
       "data": [
        {
         "colorscale": [
          [
           0,
           "#440154"
          ],
          [
           0.1111111111111111,
           "#482878"
          ],
          [
           0.2222222222222222,
           "#3e4989"
          ],
          [
           0.3333333333333333,
           "#31688e"
          ],
          [
           0.4444444444444444,
           "#26828e"
          ],
          [
           0.5555555555555556,
           "#1f9e89"
          ],
          [
           0.6666666666666666,
           "#35b779"
          ],
          [
           0.7777777777777778,
           "#6ece58"
          ],
          [
           0.8888888888888888,
           "#b5de2b"
          ],
          [
           1,
           "#fde725"
          ]
         ],
         "type": "surface",
         "x": [
          0,
          0.05263157894736842,
          0.10526315789473684,
          0.15789473684210525,
          0.21052631578947367,
          0.2631578947368421,
          0.3157894736842105,
          0.3684210526315789,
          0.42105263157894735,
          0.47368421052631576,
          0.5263157894736842,
          0.5789473684210527,
          0.631578947368421,
          0.6842105263157894,
          0.7368421052631579,
          0.7894736842105263,
          0.8421052631578947,
          0.894736842105263,
          0.9473684210526315,
          1
         ],
         "y": [
          0,
          0.05263157894736842,
          0.10526315789473684,
          0.15789473684210525,
          0.21052631578947367,
          0.2631578947368421,
          0.3157894736842105,
          0.3684210526315789,
          0.42105263157894735,
          0.47368421052631576,
          0.5263157894736842,
          0.5789473684210527,
          0.631578947368421,
          0.6842105263157894,
          0.7368421052631579,
          0.7894736842105263,
          0.8421052631578947,
          0.894736842105263,
          0.9473684210526315,
          1
         ],
         "z": [
          [
           0,
           0,
           0,
           0,
           0,
           0,
           0,
           0,
           0,
           0,
           0,
           0,
           0,
           0,
           0,
           0,
           0,
           0,
           0,
           0
          ],
          [
           0,
           0.004686372896318774,
           0.007987700456588254,
           0.010451115010276008,
           0.012332961154523776,
           0.013771892334790883,
           0.01485088773942442,
           0.015622531106415379,
           0.016120367623833863,
           0.016364537328797883,
           0.016364537328797887,
           0.01612036762383388,
           0.015622531106415411,
           0.014850887739424463,
           0.013771892334790928,
           0.012332961154523816,
           0.010451115010276043,
           0.00798770045658828,
           0.004686372896318791,
           0
          ],
          [
           0,
           0.007987700456588254,
           0.014043231910504522,
           0.01871372603298038,
           0.022338765126248838,
           0.02513360430584529,
           0.027239045324122402,
           0.02874877854220118,
           0.029724319675862476,
           0.030203184901466267,
           0.030203184901466285,
           0.029724319675862528,
           0.028748778542201252,
           0.027239045324122486,
           0.025133604305845374,
           0.022338765126248918,
           0.01871372603298044,
           0.014043231910504578,
           0.007987700456588288,
           0
          ],
          [
           0,
           0.010451115010276006,
           0.018713726032980375,
           0.025251716622001787,
           0.030404678284562836,
           0.03441462473965559,
           0.03745280203758436,
           0.03963911572941387,
           0.04105488250097177,
           0.0417506309077685,
           0.04175063090776853,
           0.04105488250097185,
           0.03963911572941398,
           0.03745280203758447,
           0.03441462473965571,
           0.030404678284562947,
           0.02525171662200188,
           0.01871372603298045,
           0.010451115010276053,
           0
          ],
          [
           0,
           0.012332961154523776,
           0.022338765126248834,
           0.03040467828456284,
           0.03684352028904892,
           0.041897329274161836,
           0.045748324684757175,
           0.048529917769828776,
           0.050335367774229374,
           0.05122374860401662,
           0.051223748604016635,
           0.050335367774229436,
           0.0485299177698289,
           0.04574832468475734,
           0.041897329274161996,
           0.036843520289049046,
           0.03040467828456297,
           0.022338765126248945,
           0.012332961154523833,
           0
          ],
          [
           0,
           0.013771892334790885,
           0.02513360430584529,
           0.034414624739655605,
           0.041897329274161836,
           0.04781276380433398,
           0.05234316220514954,
           0.055626793948861455,
           0.05776281956748245,
           0.058815168900082246,
           0.05881516890008227,
           0.057762819567482554,
           0.055626793948861615,
           0.0523431622051497,
           0.04781276380433416,
           0.04189732927416198,
           0.03441462473965573,
           0.025133604305845398,
           0.013771892334790953,
           0
          ],
          [
           0,
           0.014850887739424426,
           0.02723904532412242,
           0.037452802037584394,
           0.0457483246847572,
           0.05234316220514954,
           0.05741469857732953,
           0.06110120154728962,
           0.06350386500839025,
           0.06468885995823284,
           0.06468885995823288,
           0.06350386500839036,
           0.061101201547289756,
           0.05741469857732967,
           0.052343162205149736,
           0.04574832468475736,
           0.03745280203758453,
           0.02723904532412253,
           0.01485088773942449,
           0
          ],
          [
           0,
           0.015622531106415392,
           0.0287487785422012,
           0.0396391157294139,
           0.04852991776982879,
           0.05562679394886148,
           0.06110120154728962,
           0.06508936489969519,
           0.06769248726300252,
           0.06897743611605577,
           0.06897743611605579,
           0.06769248726300266,
           0.06508936489969532,
           0.06110120154728978,
           0.05562679394886164,
           0.04852991776982895,
           0.039639115729414046,
           0.0287487785422013,
           0.01562253110641545,
           0
          ],
          [
           0,
           0.016120367623833873,
           0.029724319675862504,
           0.0410548825009718,
           0.050335367774229416,
           0.057762819567482505,
           0.06350386500839031,
           0.06769248726300255,
           0.0704292031694189,
           0.07178087818889045,
           0.07178087818889042,
           0.07042920316941902,
           0.06769248726300271,
           0.06350386500839045,
           0.057762819567482644,
           0.05033536777422952,
           0.04105488250097193,
           0.02972431967586261,
           0.016120367623833926,
           0
          ],
          [
           0,
           0.016364537328797904,
           0.030203184901466312,
           0.04175063090776856,
           0.05122374860401669,
           0.05881516890008231,
           0.06468885995823292,
           0.06897743611605583,
           0.07178087818889047,
           0.07316591133219194,
           0.07316591133219191,
           0.07178087818889048,
           0.0689774361160559,
           0.06468885995823302,
           0.05881516890008243,
           0.051223748604016746,
           0.04175063090776865,
           0.0302031849014664,
           0.016364537328797953,
           0
          ],
          [
           0,
           0.01636453732879792,
           0.030203184901466354,
           0.04175063090776863,
           0.051223748604016725,
           0.05881516890008238,
           0.06468885995823301,
           0.0689774361160559,
           0.07178087818889056,
           0.07316591133219198,
           0.073165911332192,
           0.07178087818889056,
           0.06897743611605592,
           0.06468885995823301,
           0.05881516890008241,
           0.05122374860401677,
           0.04175063090776865,
           0.0302031849014664,
           0.016364537328797946,
           0
          ],
          [
           0,
           0.016120367623833922,
           0.0297243196758626,
           0.04105488250097193,
           0.05033536777422956,
           0.05776281956748265,
           0.0635038650083905,
           0.06769248726300273,
           0.07042920316941913,
           0.0717808781888906,
           0.0717808781888906,
           0.0704292031694191,
           0.06769248726300275,
           0.06350386500839048,
           0.05776281956748266,
           0.05033536777422955,
           0.04105488250097193,
           0.029724319675862608,
           0.016120367623833922,
           0
          ],
          [
           0,
           0.015622531106415453,
           0.02874877854220131,
           0.03963911572941408,
           0.048529917769829005,
           0.055626793948861726,
           0.06110120154728987,
           0.06508936489969547,
           0.06769248726300281,
           0.06897743611605603,
           0.06897743611605603,
           0.0676924872630028,
           0.0650893648996954,
           0.06110120154728983,
           0.05562679394886165,
           0.048529917769828984,
           0.03963911572941403,
           0.028748778542201314,
           0.015622531106415458,
           0
          ],
          [
           0,
           0.014850887739424497,
           0.027239045324122555,
           0.03745280203758459,
           0.045748324684757424,
           0.052343162205149826,
           0.05741469857732981,
           0.061101201547289916,
           0.06350386500839054,
           0.06468885995823313,
           0.06468885995823313,
           0.06350386500839054,
           0.061101201547289846,
           0.05741469857732977,
           0.052343162205149785,
           0.045748324684757403,
           0.03745280203758453,
           0.02723904532412254,
           0.014850887739424492,
           0
          ],
          [
           0,
           0.013771892334790967,
           0.025133604305845436,
           0.0344146247396558,
           0.04189732927416208,
           0.04781276380433427,
           0.05234316220514984,
           0.05562679394886176,
           0.057762819567482734,
           0.05881516890008251,
           0.058815168900082516,
           0.057762819567482714,
           0.05562679394886168,
           0.05234316220514979,
           0.04781276380433418,
           0.04189732927416201,
           0.034414624739655765,
           0.025133604305845415,
           0.013771892334790953,
           0
          ],
          [
           0,
           0.012332961154523845,
           0.022338765126248966,
           0.030404678284563013,
           0.036843520289049116,
           0.04189732927416208,
           0.04574832468475745,
           0.04852991776982903,
           0.05033536777422964,
           0.051223748604016836,
           0.05122374860401683,
           0.0503353677742296,
           0.048529917769829,
           0.045748324684757403,
           0.04189732927416202,
           0.036843520289049095,
           0.03040467828456298,
           0.02233876512624895,
           0.01233296115452383,
           0
          ],
          [
           0,
           0.010451115010276069,
           0.018713726032980493,
           0.02525171662200193,
           0.030404678284563027,
           0.03441462473965582,
           0.037452802037584616,
           0.03963911572941413,
           0.04105488250097203,
           0.04175063090776872,
           0.041750630907768725,
           0.04105488250097198,
           0.039639115729414066,
           0.03745280203758453,
           0.03441462473965576,
           0.030404678284562985,
           0.0252517166220019,
           0.018713726032980472,
           0.010451115010276056,
           0
          ],
          [
           0,
           0.007987700456588302,
           0.014043231910504607,
           0.0187137260329805,
           0.02233876512624899,
           0.025133604305845464,
           0.027239045324122593,
           0.028748778542201373,
           0.02972431967586267,
           0.030203184901466455,
           0.030203184901466448,
           0.029724319675862657,
           0.028748778542201335,
           0.027239045324122555,
           0.025133604305845422,
           0.022338765126248952,
           0.018713726032980476,
           0.014043231910504597,
           0.007987700456588299,
           0
          ],
          [
           0,
           0.0046863728963188,
           0.007987700456588302,
           0.010451115010276079,
           0.012332961154523859,
           0.013771892334790975,
           0.014850887739424523,
           0.015622531106415483,
           0.016120367623833957,
           0.016364537328797977,
           0.016364537328797973,
           0.016120367623833946,
           0.015622531106415465,
           0.014850887739424496,
           0.01377189233479096,
           0.012332961154523833,
           0.010451115010276062,
           0.007987700456588297,
           0.004686372896318792,
           0
          ],
          [
           0,
           0,
           0,
           0,
           0,
           0,
           0,
           0,
           0,
           0,
           0,
           0,
           0,
           0,
           0,
           0,
           0,
           0,
           0,
           0
          ]
         ]
        }
       ],
       "layout": {
        "autosize": false,
        "height": 500,
        "margin": {
         "b": 65,
         "l": 65,
         "r": 50,
         "t": 90
        },
        "template": {
         "data": {
          "bar": [
           {
            "error_x": {
             "color": "#2a3f5f"
            },
            "error_y": {
             "color": "#2a3f5f"
            },
            "marker": {
             "line": {
              "color": "#E5ECF6",
              "width": 0.5
             },
             "pattern": {
              "fillmode": "overlay",
              "size": 10,
              "solidity": 0.2
             }
            },
            "type": "bar"
           }
          ],
          "barpolar": [
           {
            "marker": {
             "line": {
              "color": "#E5ECF6",
              "width": 0.5
             },
             "pattern": {
              "fillmode": "overlay",
              "size": 10,
              "solidity": 0.2
             }
            },
            "type": "barpolar"
           }
          ],
          "carpet": [
           {
            "aaxis": {
             "endlinecolor": "#2a3f5f",
             "gridcolor": "white",
             "linecolor": "white",
             "minorgridcolor": "white",
             "startlinecolor": "#2a3f5f"
            },
            "baxis": {
             "endlinecolor": "#2a3f5f",
             "gridcolor": "white",
             "linecolor": "white",
             "minorgridcolor": "white",
             "startlinecolor": "#2a3f5f"
            },
            "type": "carpet"
           }
          ],
          "choropleth": [
           {
            "colorbar": {
             "outlinewidth": 0,
             "ticks": ""
            },
            "type": "choropleth"
           }
          ],
          "contour": [
           {
            "colorbar": {
             "outlinewidth": 0,
             "ticks": ""
            },
            "colorscale": [
             [
              0,
              "#0d0887"
             ],
             [
              0.1111111111111111,
              "#46039f"
             ],
             [
              0.2222222222222222,
              "#7201a8"
             ],
             [
              0.3333333333333333,
              "#9c179e"
             ],
             [
              0.4444444444444444,
              "#bd3786"
             ],
             [
              0.5555555555555556,
              "#d8576b"
             ],
             [
              0.6666666666666666,
              "#ed7953"
             ],
             [
              0.7777777777777778,
              "#fb9f3a"
             ],
             [
              0.8888888888888888,
              "#fdca26"
             ],
             [
              1,
              "#f0f921"
             ]
            ],
            "type": "contour"
           }
          ],
          "contourcarpet": [
           {
            "colorbar": {
             "outlinewidth": 0,
             "ticks": ""
            },
            "type": "contourcarpet"
           }
          ],
          "heatmap": [
           {
            "colorbar": {
             "outlinewidth": 0,
             "ticks": ""
            },
            "colorscale": [
             [
              0,
              "#0d0887"
             ],
             [
              0.1111111111111111,
              "#46039f"
             ],
             [
              0.2222222222222222,
              "#7201a8"
             ],
             [
              0.3333333333333333,
              "#9c179e"
             ],
             [
              0.4444444444444444,
              "#bd3786"
             ],
             [
              0.5555555555555556,
              "#d8576b"
             ],
             [
              0.6666666666666666,
              "#ed7953"
             ],
             [
              0.7777777777777778,
              "#fb9f3a"
             ],
             [
              0.8888888888888888,
              "#fdca26"
             ],
             [
              1,
              "#f0f921"
             ]
            ],
            "type": "heatmap"
           }
          ],
          "heatmapgl": [
           {
            "colorbar": {
             "outlinewidth": 0,
             "ticks": ""
            },
            "colorscale": [
             [
              0,
              "#0d0887"
             ],
             [
              0.1111111111111111,
              "#46039f"
             ],
             [
              0.2222222222222222,
              "#7201a8"
             ],
             [
              0.3333333333333333,
              "#9c179e"
             ],
             [
              0.4444444444444444,
              "#bd3786"
             ],
             [
              0.5555555555555556,
              "#d8576b"
             ],
             [
              0.6666666666666666,
              "#ed7953"
             ],
             [
              0.7777777777777778,
              "#fb9f3a"
             ],
             [
              0.8888888888888888,
              "#fdca26"
             ],
             [
              1,
              "#f0f921"
             ]
            ],
            "type": "heatmapgl"
           }
          ],
          "histogram": [
           {
            "marker": {
             "pattern": {
              "fillmode": "overlay",
              "size": 10,
              "solidity": 0.2
             }
            },
            "type": "histogram"
           }
          ],
          "histogram2d": [
           {
            "colorbar": {
             "outlinewidth": 0,
             "ticks": ""
            },
            "colorscale": [
             [
              0,
              "#0d0887"
             ],
             [
              0.1111111111111111,
              "#46039f"
             ],
             [
              0.2222222222222222,
              "#7201a8"
             ],
             [
              0.3333333333333333,
              "#9c179e"
             ],
             [
              0.4444444444444444,
              "#bd3786"
             ],
             [
              0.5555555555555556,
              "#d8576b"
             ],
             [
              0.6666666666666666,
              "#ed7953"
             ],
             [
              0.7777777777777778,
              "#fb9f3a"
             ],
             [
              0.8888888888888888,
              "#fdca26"
             ],
             [
              1,
              "#f0f921"
             ]
            ],
            "type": "histogram2d"
           }
          ],
          "histogram2dcontour": [
           {
            "colorbar": {
             "outlinewidth": 0,
             "ticks": ""
            },
            "colorscale": [
             [
              0,
              "#0d0887"
             ],
             [
              0.1111111111111111,
              "#46039f"
             ],
             [
              0.2222222222222222,
              "#7201a8"
             ],
             [
              0.3333333333333333,
              "#9c179e"
             ],
             [
              0.4444444444444444,
              "#bd3786"
             ],
             [
              0.5555555555555556,
              "#d8576b"
             ],
             [
              0.6666666666666666,
              "#ed7953"
             ],
             [
              0.7777777777777778,
              "#fb9f3a"
             ],
             [
              0.8888888888888888,
              "#fdca26"
             ],
             [
              1,
              "#f0f921"
             ]
            ],
            "type": "histogram2dcontour"
           }
          ],
          "mesh3d": [
           {
            "colorbar": {
             "outlinewidth": 0,
             "ticks": ""
            },
            "type": "mesh3d"
           }
          ],
          "parcoords": [
           {
            "line": {
             "colorbar": {
              "outlinewidth": 0,
              "ticks": ""
             }
            },
            "type": "parcoords"
           }
          ],
          "pie": [
           {
            "automargin": true,
            "type": "pie"
           }
          ],
          "scatter": [
           {
            "fillpattern": {
             "fillmode": "overlay",
             "size": 10,
             "solidity": 0.2
            },
            "type": "scatter"
           }
          ],
          "scatter3d": [
           {
            "line": {
             "colorbar": {
              "outlinewidth": 0,
              "ticks": ""
             }
            },
            "marker": {
             "colorbar": {
              "outlinewidth": 0,
              "ticks": ""
             }
            },
            "type": "scatter3d"
           }
          ],
          "scattercarpet": [
           {
            "marker": {
             "colorbar": {
              "outlinewidth": 0,
              "ticks": ""
             }
            },
            "type": "scattercarpet"
           }
          ],
          "scattergeo": [
           {
            "marker": {
             "colorbar": {
              "outlinewidth": 0,
              "ticks": ""
             }
            },
            "type": "scattergeo"
           }
          ],
          "scattergl": [
           {
            "marker": {
             "colorbar": {
              "outlinewidth": 0,
              "ticks": ""
             }
            },
            "type": "scattergl"
           }
          ],
          "scattermapbox": [
           {
            "marker": {
             "colorbar": {
              "outlinewidth": 0,
              "ticks": ""
             }
            },
            "type": "scattermapbox"
           }
          ],
          "scatterpolar": [
           {
            "marker": {
             "colorbar": {
              "outlinewidth": 0,
              "ticks": ""
             }
            },
            "type": "scatterpolar"
           }
          ],
          "scatterpolargl": [
           {
            "marker": {
             "colorbar": {
              "outlinewidth": 0,
              "ticks": ""
             }
            },
            "type": "scatterpolargl"
           }
          ],
          "scatterternary": [
           {
            "marker": {
             "colorbar": {
              "outlinewidth": 0,
              "ticks": ""
             }
            },
            "type": "scatterternary"
           }
          ],
          "surface": [
           {
            "colorbar": {
             "outlinewidth": 0,
             "ticks": ""
            },
            "colorscale": [
             [
              0,
              "#0d0887"
             ],
             [
              0.1111111111111111,
              "#46039f"
             ],
             [
              0.2222222222222222,
              "#7201a8"
             ],
             [
              0.3333333333333333,
              "#9c179e"
             ],
             [
              0.4444444444444444,
              "#bd3786"
             ],
             [
              0.5555555555555556,
              "#d8576b"
             ],
             [
              0.6666666666666666,
              "#ed7953"
             ],
             [
              0.7777777777777778,
              "#fb9f3a"
             ],
             [
              0.8888888888888888,
              "#fdca26"
             ],
             [
              1,
              "#f0f921"
             ]
            ],
            "type": "surface"
           }
          ],
          "table": [
           {
            "cells": {
             "fill": {
              "color": "#EBF0F8"
             },
             "line": {
              "color": "white"
             }
            },
            "header": {
             "fill": {
              "color": "#C8D4E3"
             },
             "line": {
              "color": "white"
             }
            },
            "type": "table"
           }
          ]
         },
         "layout": {
          "annotationdefaults": {
           "arrowcolor": "#2a3f5f",
           "arrowhead": 0,
           "arrowwidth": 1
          },
          "autotypenumbers": "strict",
          "coloraxis": {
           "colorbar": {
            "outlinewidth": 0,
            "ticks": ""
           }
          },
          "colorscale": {
           "diverging": [
            [
             0,
             "#8e0152"
            ],
            [
             0.1,
             "#c51b7d"
            ],
            [
             0.2,
             "#de77ae"
            ],
            [
             0.3,
             "#f1b6da"
            ],
            [
             0.4,
             "#fde0ef"
            ],
            [
             0.5,
             "#f7f7f7"
            ],
            [
             0.6,
             "#e6f5d0"
            ],
            [
             0.7,
             "#b8e186"
            ],
            [
             0.8,
             "#7fbc41"
            ],
            [
             0.9,
             "#4d9221"
            ],
            [
             1,
             "#276419"
            ]
           ],
           "sequential": [
            [
             0,
             "#0d0887"
            ],
            [
             0.1111111111111111,
             "#46039f"
            ],
            [
             0.2222222222222222,
             "#7201a8"
            ],
            [
             0.3333333333333333,
             "#9c179e"
            ],
            [
             0.4444444444444444,
             "#bd3786"
            ],
            [
             0.5555555555555556,
             "#d8576b"
            ],
            [
             0.6666666666666666,
             "#ed7953"
            ],
            [
             0.7777777777777778,
             "#fb9f3a"
            ],
            [
             0.8888888888888888,
             "#fdca26"
            ],
            [
             1,
             "#f0f921"
            ]
           ],
           "sequentialminus": [
            [
             0,
             "#0d0887"
            ],
            [
             0.1111111111111111,
             "#46039f"
            ],
            [
             0.2222222222222222,
             "#7201a8"
            ],
            [
             0.3333333333333333,
             "#9c179e"
            ],
            [
             0.4444444444444444,
             "#bd3786"
            ],
            [
             0.5555555555555556,
             "#d8576b"
            ],
            [
             0.6666666666666666,
             "#ed7953"
            ],
            [
             0.7777777777777778,
             "#fb9f3a"
            ],
            [
             0.8888888888888888,
             "#fdca26"
            ],
            [
             1,
             "#f0f921"
            ]
           ]
          },
          "colorway": [
           "#636efa",
           "#EF553B",
           "#00cc96",
           "#ab63fa",
           "#FFA15A",
           "#19d3f3",
           "#FF6692",
           "#B6E880",
           "#FF97FF",
           "#FECB52"
          ],
          "font": {
           "color": "#2a3f5f"
          },
          "geo": {
           "bgcolor": "white",
           "lakecolor": "white",
           "landcolor": "#E5ECF6",
           "showlakes": true,
           "showland": true,
           "subunitcolor": "white"
          },
          "hoverlabel": {
           "align": "left"
          },
          "hovermode": "closest",
          "mapbox": {
           "style": "light"
          },
          "paper_bgcolor": "white",
          "plot_bgcolor": "#E5ECF6",
          "polar": {
           "angularaxis": {
            "gridcolor": "white",
            "linecolor": "white",
            "ticks": ""
           },
           "bgcolor": "#E5ECF6",
           "radialaxis": {
            "gridcolor": "white",
            "linecolor": "white",
            "ticks": ""
           }
          },
          "scene": {
           "xaxis": {
            "backgroundcolor": "#E5ECF6",
            "gridcolor": "white",
            "gridwidth": 2,
            "linecolor": "white",
            "showbackground": true,
            "ticks": "",
            "zerolinecolor": "white"
           },
           "yaxis": {
            "backgroundcolor": "#E5ECF6",
            "gridcolor": "white",
            "gridwidth": 2,
            "linecolor": "white",
            "showbackground": true,
            "ticks": "",
            "zerolinecolor": "white"
           },
           "zaxis": {
            "backgroundcolor": "#E5ECF6",
            "gridcolor": "white",
            "gridwidth": 2,
            "linecolor": "white",
            "showbackground": true,
            "ticks": "",
            "zerolinecolor": "white"
           }
          },
          "shapedefaults": {
           "line": {
            "color": "#2a3f5f"
           }
          },
          "ternary": {
           "aaxis": {
            "gridcolor": "white",
            "linecolor": "white",
            "ticks": ""
           },
           "baxis": {
            "gridcolor": "white",
            "linecolor": "white",
            "ticks": ""
           },
           "bgcolor": "#E5ECF6",
           "caxis": {
            "gridcolor": "white",
            "linecolor": "white",
            "ticks": ""
           }
          },
          "title": {
           "x": 0.05
          },
          "xaxis": {
           "automargin": true,
           "gridcolor": "white",
           "linecolor": "white",
           "ticks": "",
           "title": {
            "standoff": 15
           },
           "zerolinecolor": "white",
           "zerolinewidth": 2
          },
          "yaxis": {
           "automargin": true,
           "gridcolor": "white",
           "linecolor": "white",
           "ticks": "",
           "title": {
            "standoff": 15
           },
           "zerolinecolor": "white",
           "zerolinewidth": 2
          }
         }
        },
        "title": {
         "text": "3D Surface Plot"
        },
        "width": 500
       }
      }
     },
     "metadata": {},
     "output_type": "display_data"
    }
   ],
   "source": [
    "fig = go.Figure(data=[go.Surface(x=x, y=y, z=U.reshape(m, n), colorscale=\"Viridis\")])\n",
    "fig.update_layout(\n",
    "    title=\"3D Surface Plot\",\n",
    "    autosize=False,\n",
    "    width=500,\n",
    "    height=500,\n",
    "    margin=dict(l=65, r=50, b=65, t=90),\n",
    ")\n",
    "fig.show()\n",
    "fig.write_html(\"surface_plot.html\")"
   ]
  }
 ],
 "metadata": {
  "kernelspec": {
   "display_name": "physics",
   "language": "python",
   "name": "python3"
  },
  "language_info": {
   "codemirror_mode": {
    "name": "ipython",
    "version": 3
   },
   "file_extension": ".py",
   "mimetype": "text/x-python",
   "name": "python",
   "nbconvert_exporter": "python",
   "pygments_lexer": "ipython3",
   "version": "3.10.12"
  }
 },
 "nbformat": 4,
 "nbformat_minor": 2
}
