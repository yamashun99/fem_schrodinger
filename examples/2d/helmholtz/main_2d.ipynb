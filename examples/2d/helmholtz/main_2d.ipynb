{
 "cells": [
  {
   "cell_type": "code",
   "execution_count": 76,
   "metadata": {},
   "outputs": [],
   "source": [
    "import sys\n",
    "\n",
    "sys.path.append(\"../../../src/2d\")"
   ]
  },
  {
   "cell_type": "code",
   "execution_count": 77,
   "metadata": {},
   "outputs": [],
   "source": [
    "import matrix_element_sparse\n",
    "import importlib\n",
    "from scipy.sparse.linalg import cg\n",
    "import numpy as np\n",
    "import matplotlib.pyplot as plt\n",
    "import plotly.graph_objects as go\n",
    "from scipy.sparse.linalg import eigsh\n",
    "import os\n",
    "\n",
    "importlib.reload(matrix_element_sparse)\n",
    "from matrix_element_sparse import *"
   ]
  },
  {
   "cell_type": "code",
   "execution_count": 78,
   "metadata": {},
   "outputs": [],
   "source": [
    "m, n = 20, 20\n",
    "x = np.linspace(0, 1, m)\n",
    "y = np.linspace(0, 1, n)"
   ]
  },
  {
   "cell_type": "code",
   "execution_count": 79,
   "metadata": {},
   "outputs": [],
   "source": [
    "mel = Mel2d(x, y)\n",
    "p, t, b = mel.generate_mesh()\n",
    "K = mel.stiffness_matrix()\n",
    "M = mel.mass_matrix()"
   ]
  },
  {
   "cell_type": "code",
   "execution_count": 80,
   "metadata": {},
   "outputs": [],
   "source": [
    "# 行と列を削除する（例として2行目と2列目を削除）\n",
    "K_dirichlet = mel.remove_row_col_csr(K, b, b)\n",
    "M_dirichlet = mel.remove_row_col_csr(M, b, b)\n",
    "val, vec = eigsh(K_dirichlet, 1, M_dirichlet, sigma=0, which=\"LM\")"
   ]
  },
  {
   "cell_type": "code",
   "execution_count": 81,
   "metadata": {},
   "outputs": [
    {
     "data": {
      "text/plain": [
       "<matplotlib.image.AxesImage at 0x7bc11fa8a350>"
      ]
     },
     "execution_count": 81,
     "metadata": {},
     "output_type": "execute_result"
    },
    {
     "data": {
      "image/png": "[encoded data removed]",
      "text/plain": [
       "<Figure size 640x480 with 1 Axes>"
      ]
     },
     "metadata": {},
     "output_type": "display_data"
    }
   ],
   "source": [
    "reduced_x_len = int(np.sqrt(K_dirichlet.shape[0]))\n",
    "reduced_y_len = int(np.sqrt(K_dirichlet.shape[0]))\n",
    "fig, ax = plt.subplots()\n",
    "ax.imshow(vec.reshape(reduced_x_len, reduced_y_len))"
   ]
  },
  {
   "cell_type": "code",
   "execution_count": 82,
   "metadata": {},
   "outputs": [
    {
     "data": {
      "application/vnd.plotly.v1+json": {
       "config": {
        "plotlyServerURL": "https://plot.ly"
       },
       "data": [
        {
         "colorscale": [
          [
           0,
           "#440154"
          ],
          [
           0.1111111111111111,
           "#482878"
          ],
          [
           0.2222222222222222,
           "#3e4989"
          ],
          [
           0.3333333333333333,
           "#31688e"
          ],
          [
           0.4444444444444444,
           "#26828e"
          ],
          [
           0.5555555555555556,
           "#1f9e89"
          ],
          [
           0.6666666666666666,
           "#35b779"
          ],
          [
           0.7777777777777778,
           "#6ece58"
          ],
          [
           0.8888888888888888,
           "#b5de2b"
          ],
          [
           1,
           "#fde725"
          ]
         ],
         "type": "surface",
         "x": [
          0,
          0.05263157894736842,
          0.10526315789473684,
          0.15789473684210525,
          0.21052631578947367,
          0.2631578947368421,
          0.3157894736842105,
          0.3684210526315789,
          0.42105263157894735,
          0.47368421052631576,
          0.5263157894736842,
          0.5789473684210527,
          0.631578947368421,
          0.6842105263157894,
          0.7368421052631579,
          0.7894736842105263,
          0.8421052631578947,
          0.894736842105263,
          0.9473684210526315,
          1
         ],
         "y": [
          0,
          0.05263157894736842,
          0.10526315789473684,
          0.15789473684210525,
          0.21052631578947367,
          0.2631578947368421,
          0.3157894736842105,
          0.3684210526315789,
          0.42105263157894735,
          0.47368421052631576,
          0.5263157894736842,
          0.5789473684210527,
          0.631578947368421,
          0.6842105263157894,
          0.7368421052631579,
          0.7894736842105263,
          0.8421052631578947,
          0.894736842105263,
          0.9473684210526315,
          1
         ],
         "z": [
          [
           0.05387361137487695,
           0.10651706342071982,
           0.15639473207647459,
           0.20209719881293564,
           0.24234958787736316,
           0.2760354119173496,
           0.30222245625002564,
           0.3201859979464062,
           0.3294273383615732,
           0.3296866015748807,
           0.32094920603690363,
           0.3034456974080202,
           0.27764483884298313,
           0.24424000990281786,
           0.20412903629395052,
           0.15838744465635501,
           0.10823444373231716,
           0.05498843456596392
          ],
          [
           0.10651706342071987,
           0.21044900645817022,
           0.30886129174989496,
           0.39900451235057854,
           0.47837584868271055,
           0.5447788598643433,
           0.5963785009288731,
           0.6317482707313448,
           0.6499072628779806,
           0.6503456016208142,
           0.6330372854557855,
           0.5984399055249426,
           0.5474810918455235,
           0.4815318719708609,
           0.40236737905585906,
           0.31211546095101017,
           0.2131936281672484,
           0.10823444373231716
          ],
          [
           0.1563947320764748,
           0.3088612917498952,
           0.4531582693069681,
           0.5852855652625311,
           0.7015902911190752,
           0.7988622824720713,
           0.8744182896101991,
           0.9261726596205682,
           0.9526923504792186,
           0.9532345392514625,
           0.9277656130075704,
           0.876960877453093,
           0.802184856920342,
           0.7054525745523365,
           0.5893726804362185,
           0.45707373918122074,
           0.3121154609510104,
           0.15838744465635535
          ],
          [
           0.20209719881293595,
           0.3990045123505787,
           0.5852855652625313,
           0.7558025996757647,
           0.9058574605104674,
           1.0313185081773086,
           1.1287315287966626,
           1.195412206373664,
           1.2295177870560283,
           1.230095967596922,
           1.197109609325788,
           1.1314365256998293,
           1.0348442695301796,
           0.9099405297841087,
           0.7601004267586773,
           0.5893726804362198,
           0.4023673790558595,
           0.20412903629395107
          ],
          [
           0.2423495878773636,
           0.478375848682711,
           0.7015902911190753,
           0.9058574605104681,
           1.0855642593588775,
           1.2357732358566387,
           1.3523565613678694,
           1.4321075764020983,
           1.472827118966571,
           1.4733823783579905,
           1.4337366880246925,
           1.3549494295550657,
           1.2391460259281641,
           1.0894588281949615,
           0.9099405297841079,
           0.7054525745523371,
           0.4815318719708621,
           0.24424000990281863
          ],
          [
           0.27603541191735004,
           0.544778859864345,
           0.7988622824720727,
           1.0313185081773106,
           1.235773235856639,
           1.4066195944552167,
           1.5391709701874265,
           1.6297882930872736,
           1.6759785393593734,
           1.6764618864047145,
           1.6312057462120308,
           1.5414247717496177,
           1.4095468489308745,
           1.239146025928165,
           1.0348442695301807,
           0.8021848569203438,
           0.5474810918455244,
           0.2776448388429842
          ],
          [
           0.3022224562500262,
           0.5963785009288747,
           0.8744182896102011,
           1.1287315287966637,
           1.3523565613678707,
           1.5391709701874272,
           1.6840587040125095,
           1.7830493777204572,
           1.833426108408318,
           1.8337990505742727,
           1.784142685770179,
           1.685795885271734,
           1.541424771749619,
           1.3549494295550666,
           1.1314365256998313,
           0.8769608774530948,
           0.5984399055249449,
           0.3034456974080217
          ],
          [
           0.32018599794640673,
           0.631748270731347,
           0.9261726596205697,
           1.1954122063736672,
           1.4321075764021003,
           1.6297882930872758,
           1.7830493777204581,
           1.8876986837095378,
           1.940870998985238,
           1.9411058712072427,
           1.888387076730708,
           1.7841426857701805,
           1.6312057462120326,
           1.4337366880246947,
           1.197109609325791,
           0.927765613007574,
           0.6330372854557893,
           0.32094920603690524
          ],
          [
           0.32942733836157445,
           0.6499072628779831,
           0.952692350479222,
           1.2295177870560319,
           1.472827118966575,
           1.6759785393593767,
           1.833426108408321,
           1.9408709989852388,
           1.9953786733673065,
           1.9954588179367536,
           1.9411058712072446,
           1.833799050574275,
           1.6764618864047165,
           1.4733823783579938,
           1.2300959675969256,
           0.9532345392514663,
           0.6503456016208184,
           0.32968660157488283
          ],
          [
           0.3296866015748824,
           0.6503456016208173,
           0.953234539251467,
           1.2300959675969263,
           1.473382378357996,
           1.6764618864047187,
           1.8337990505742765,
           1.9411058712072455,
           1.9954588179367554,
           1.9953786733673085,
           1.9408709989852428,
           1.833426108408322,
           1.6759785393593791,
           1.472827118966578,
           1.2295177870560345,
           0.9526923504792244,
           0.6499072628779854,
           0.32942733836157545
          ],
          [
           0.32094920603690547,
           0.6330372854557885,
           0.9277656130075751,
           1.197109609325793,
           1.4337366880246971,
           1.631205746212037,
           1.7841426857701834,
           1.8883870767307123,
           1.941105871207247,
           1.9408709989852446,
           1.8876986837095413,
           1.7830493777204612,
           1.6297882930872811,
           1.432107576402104,
           1.195412206373671,
           0.926172659620573,
           0.6317482707313486,
           0.320185997946408
          ],
          [
           0.30344569740802196,
           0.5984399055249457,
           0.8769608774530977,
           1.1314365256998347,
           1.3549494295550704,
           1.5414247717496237,
           1.6857958852717398,
           1.7841426857701854,
           1.8337990505742798,
           1.8334261084083254,
           1.7830493777204635,
           1.684058704012517,
           1.5391709701874348,
           1.3523565613678765,
           1.1287315287966684,
           0.8744182896102037,
           0.5963785009288777,
           0.3022224562500278
          ],
          [
           0.27764483884298485,
           0.5474810918455268,
           0.8021848569203459,
           1.0348442695301852,
           1.2391460259281701,
           1.4095468489308804,
           1.5414247717496243,
           1.6312057462120406,
           1.6764618864047227,
           1.675978539359383,
           1.6297882930872833,
           1.5391709701874352,
           1.4066195944552229,
           1.2357732358566444,
           1.031318508177316,
           0.7988622824720766,
           0.5447788598643487,
           0.2760354119173515
          ],
          [
           0.2442400099028194,
           0.4815318719708639,
           0.7054525745523401,
           0.909940529784113,
           1.0894588281949664,
           1.2391460259281704,
           1.3549494295550721,
           1.4337366880246996,
           1.473382378357999,
           1.4728271189665796,
           1.4321075764021058,
           1.3523565613678772,
           1.2357732358566442,
           1.085564259358883,
           0.905857460510473,
           0.7015902911190792,
           0.4783758486827143,
           0.2423495878773651
          ],
          [
           0.20412903629395168,
           0.40236737905586206,
           0.5893726804362228,
           0.7601004267586814,
           0.909940529784113,
           1.0348442695301854,
           1.1314365256998355,
           1.1971096093257954,
           1.2300959675969296,
           1.2295177870560352,
           1.195412206373672,
           1.1287315287966697,
           1.0313185081773164,
           0.9058574605104728,
           0.7558025996757698,
           0.5852855652625353,
           0.39900451235058115,
           0.20209719881293725
          ],
          [
           0.1583874446563559,
           0.3121154609510123,
           0.45707373918122407,
           0.5893726804362232,
           0.7054525745523408,
           0.8021848569203469,
           0.8769608774530993,
           0.9277656130075774,
           0.9532345392514706,
           0.9526923504792266,
           0.9261726596205748,
           0.8744182896102055,
           0.7988622824720777,
           0.7015902911190803,
           0.5852855652625355,
           0.45315826930697134,
           0.30886129174989746,
           0.1563947320764758
          ],
          [
           0.10823444373231783,
           0.21319362816724968,
           0.31211546095101256,
           0.40236737905586273,
           0.48153187197086456,
           0.5474810918455276,
           0.5984399055249476,
           0.6330372854557912,
           0.6503456016208208,
           0.6499072628779868,
           0.6317482707313509,
           0.5963785009288787,
           0.5447788598643488,
           0.4783758486827143,
           0.3990045123505819,
           0.3088612917498975,
           0.21044900645817216,
           0.10651706342072076
          ],
          [
           0.054988434565964306,
           0.10823444373231791,
           0.15838744465635607,
           0.20412903629395224,
           0.24424000990282002,
           0.27764483884298524,
           0.30344569740802285,
           0.3209492060369066,
           0.329686601574884,
           0.3294273383615761,
           0.32018599794640873,
           0.302222456250028,
           0.2760354119173518,
           0.24234958787736516,
           0.20209719881293753,
           0.15639473207647597,
           0.10651706342072081,
           0.05387361137487731
          ]
         ]
        }
       ],
       "layout": {
        "autosize": false,
        "height": 500,
        "margin": {
         "b": 65,
         "l": 65,
         "r": 50,
         "t": 90
        },
        "template": {
         "data": {
          "bar": [
           {
            "error_x": {
             "color": "#2a3f5f"
            },
            "error_y": {
             "color": "#2a3f5f"
            },
            "marker": {
             "line": {
              "color": "#E5ECF6",
              "width": 0.5
             },
             "pattern": {
              "fillmode": "overlay",
              "size": 10,
              "solidity": 0.2
             }
            },
            "type": "bar"
           }
          ],
          "barpolar": [
           {
            "marker": {
             "line": {
              "color": "#E5ECF6",
              "width": 0.5
             },
             "pattern": {
              "fillmode": "overlay",
              "size": 10,
              "solidity": 0.2
             }
            },
            "type": "barpolar"
           }
          ],
          "carpet": [
           {
            "aaxis": {
             "endlinecolor": "#2a3f5f",
             "gridcolor": "white",
             "linecolor": "white",
             "minorgridcolor": "white",
             "startlinecolor": "#2a3f5f"
            },
            "baxis": {
             "endlinecolor": "#2a3f5f",
             "gridcolor": "white",
             "linecolor": "white",
             "minorgridcolor": "white",
             "startlinecolor": "#2a3f5f"
            },
            "type": "carpet"
           }
          ],
          "choropleth": [
           {
            "colorbar": {
             "outlinewidth": 0,
             "ticks": ""
            },
            "type": "choropleth"
           }
          ],
          "contour": [
           {
            "colorbar": {
             "outlinewidth": 0,
             "ticks": ""
            },
            "colorscale": [
             [
              0,
              "#0d0887"
             ],
             [
              0.1111111111111111,
              "#46039f"
             ],
             [
              0.2222222222222222,
              "#7201a8"
             ],
             [
              0.3333333333333333,
              "#9c179e"
             ],
             [
              0.4444444444444444,
              "#bd3786"
             ],
             [
              0.5555555555555556,
              "#d8576b"
             ],
             [
              0.6666666666666666,
              "#ed7953"
             ],
             [
              0.7777777777777778,
              "#fb9f3a"
             ],
             [
              0.8888888888888888,
              "#fdca26"
             ],
             [
              1,
              "#f0f921"
             ]
            ],
            "type": "contour"
           }
          ],
          "contourcarpet": [
           {
            "colorbar": {
             "outlinewidth": 0,
             "ticks": ""
            },
            "type": "contourcarpet"
           }
          ],
          "heatmap": [
           {
            "colorbar": {
             "outlinewidth": 0,
             "ticks": ""
            },
            "colorscale": [
             [
              0,
              "#0d0887"
             ],
             [
              0.1111111111111111,
              "#46039f"
             ],
             [
              0.2222222222222222,
              "#7201a8"
             ],
             [
              0.3333333333333333,
              "#9c179e"
             ],
             [
              0.4444444444444444,
              "#bd3786"
             ],
             [
              0.5555555555555556,
              "#d8576b"
             ],
             [
              0.6666666666666666,
              "#ed7953"
             ],
             [
              0.7777777777777778,
              "#fb9f3a"
             ],
             [
              0.8888888888888888,
              "#fdca26"
             ],
             [
              1,
              "#f0f921"
             ]
            ],
            "type": "heatmap"
           }
          ],
          "heatmapgl": [
           {
            "colorbar": {
             "outlinewidth": 0,
             "ticks": ""
            },
            "colorscale": [
             [
              0,
              "#0d0887"
             ],
             [
              0.1111111111111111,
              "#46039f"
             ],
             [
              0.2222222222222222,
              "#7201a8"
             ],
             [
              0.3333333333333333,
              "#9c179e"
             ],
             [
              0.4444444444444444,
              "#bd3786"
             ],
             [
              0.5555555555555556,
              "#d8576b"
             ],
             [
              0.6666666666666666,
              "#ed7953"
             ],
             [
              0.7777777777777778,
              "#fb9f3a"
             ],
             [
              0.8888888888888888,
              "#fdca26"
             ],
             [
              1,
              "#f0f921"
             ]
            ],
            "type": "heatmapgl"
           }
          ],
          "histogram": [
           {
            "marker": {
             "pattern": {
              "fillmode": "overlay",
              "size": 10,
              "solidity": 0.2
             }
            },
            "type": "histogram"
           }
          ],
          "histogram2d": [
           {
            "colorbar": {
             "outlinewidth": 0,
             "ticks": ""
            },
            "colorscale": [
             [
              0,
              "#0d0887"
             ],
             [
              0.1111111111111111,
              "#46039f"
             ],
             [
              0.2222222222222222,
              "#7201a8"
             ],
             [
              0.3333333333333333,
              "#9c179e"
             ],
             [
              0.4444444444444444,
              "#bd3786"
             ],
             [
              0.5555555555555556,
              "#d8576b"
             ],
             [
              0.6666666666666666,
              "#ed7953"
             ],
             [
              0.7777777777777778,
              "#fb9f3a"
             ],
             [
              0.8888888888888888,
              "#fdca26"
             ],
             [
              1,
              "#f0f921"
             ]
            ],
            "type": "histogram2d"
           }
          ],
          "histogram2dcontour": [
           {
            "colorbar": {
             "outlinewidth": 0,
             "ticks": ""
            },
            "colorscale": [
             [
              0,
              "#0d0887"
             ],
             [
              0.1111111111111111,
              "#46039f"
             ],
             [
              0.2222222222222222,
              "#7201a8"
             ],
             [
              0.3333333333333333,
              "#9c179e"
             ],
             [
              0.4444444444444444,
              "#bd3786"
             ],
             [
              0.5555555555555556,
              "#d8576b"
             ],
             [
              0.6666666666666666,
              "#ed7953"
             ],
             [
              0.7777777777777778,
              "#fb9f3a"
             ],
             [
              0.8888888888888888,
              "#fdca26"
             ],
             [
              1,
              "#f0f921"
             ]
            ],
            "type": "histogram2dcontour"
           }
          ],
          "mesh3d": [
           {
            "colorbar": {
             "outlinewidth": 0,
             "ticks": ""
            },
            "type": "mesh3d"
           }
          ],
          "parcoords": [
           {
            "line": {
             "colorbar": {
              "outlinewidth": 0,
              "ticks": ""
             }
            },
            "type": "parcoords"
           }
          ],
          "pie": [
           {
            "automargin": true,
            "type": "pie"
           }
          ],
          "scatter": [
           {
            "fillpattern": {
             "fillmode": "overlay",
             "size": 10,
             "solidity": 0.2
            },
            "type": "scatter"
           }
          ],
          "scatter3d": [
           {
            "line": {
             "colorbar": {
              "outlinewidth": 0,
              "ticks": ""
             }
            },
            "marker": {
             "colorbar": {
              "outlinewidth": 0,
              "ticks": ""
             }
            },
            "type": "scatter3d"
           }
          ],
          "scattercarpet": [
           {
            "marker": {
             "colorbar": {
              "outlinewidth": 0,
              "ticks": ""
             }
            },
            "type": "scattercarpet"
           }
          ],
          "scattergeo": [
           {
            "marker": {
             "colorbar": {
              "outlinewidth": 0,
              "ticks": ""
             }
            },
            "type": "scattergeo"
           }
          ],
          "scattergl": [
           {
            "marker": {
             "colorbar": {
              "outlinewidth": 0,
              "ticks": ""
             }
            },
            "type": "scattergl"
           }
          ],
          "scattermapbox": [
           {
            "marker": {
             "colorbar": {
              "outlinewidth": 0,
              "ticks": ""
             }
            },
            "type": "scattermapbox"
           }
          ],
          "scatterpolar": [
           {
            "marker": {
             "colorbar": {
              "outlinewidth": 0,
              "ticks": ""
             }
            },
            "type": "scatterpolar"
           }
          ],
          "scatterpolargl": [
           {
            "marker": {
             "colorbar": {
              "outlinewidth": 0,
              "ticks": ""
             }
            },
            "type": "scatterpolargl"
           }
          ],
          "scatterternary": [
           {
            "marker": {
             "colorbar": {
              "outlinewidth": 0,
              "ticks": ""
             }
            },
            "type": "scatterternary"
           }
          ],
          "surface": [
           {
            "colorbar": {
             "outlinewidth": 0,
             "ticks": ""
            },
            "colorscale": [
             [
              0,
              "#0d0887"
             ],
             [
              0.1111111111111111,
              "#46039f"
             ],
             [
              0.2222222222222222,
              "#7201a8"
             ],
             [
              0.3333333333333333,
              "#9c179e"
             ],
             [
              0.4444444444444444,
              "#bd3786"
             ],
             [
              0.5555555555555556,
              "#d8576b"
             ],
             [
              0.6666666666666666,
              "#ed7953"
             ],
             [
              0.7777777777777778,
              "#fb9f3a"
             ],
             [
              0.8888888888888888,
              "#fdca26"
             ],
             [
              1,
              "#f0f921"
             ]
            ],
            "type": "surface"
           }
          ],
          "table": [
           {
            "cells": {
             "fill": {
              "color": "#EBF0F8"
             },
             "line": {
              "color": "white"
             }
            },
            "header": {
             "fill": {
              "color": "#C8D4E3"
             },
             "line": {
              "color": "white"
             }
            },
            "type": "table"
           }
          ]
         },
         "layout": {
          "annotationdefaults": {
           "arrowcolor": "#2a3f5f",
           "arrowhead": 0,
           "arrowwidth": 1
          },
          "autotypenumbers": "strict",
          "coloraxis": {
           "colorbar": {
            "outlinewidth": 0,
            "ticks": ""
           }
          },
          "colorscale": {
           "diverging": [
            [
             0,
             "#8e0152"
            ],
            [
             0.1,
             "#c51b7d"
            ],
            [
             0.2,
             "#de77ae"
            ],
            [
             0.3,
             "#f1b6da"
            ],
            [
             0.4,
             "#fde0ef"
            ],
            [
             0.5,
             "#f7f7f7"
            ],
            [
             0.6,
             "#e6f5d0"
            ],
            [
             0.7,
             "#b8e186"
            ],
            [
             0.8,
             "#7fbc41"
            ],
            [
             0.9,
             "#4d9221"
            ],
            [
             1,
             "#276419"
            ]
           ],
           "sequential": [
            [
             0,
             "#0d0887"
            ],
            [
             0.1111111111111111,
             "#46039f"
            ],
            [
             0.2222222222222222,
             "#7201a8"
            ],
            [
             0.3333333333333333,
             "#9c179e"
            ],
            [
             0.4444444444444444,
             "#bd3786"
            ],
            [
             0.5555555555555556,
             "#d8576b"
            ],
            [
             0.6666666666666666,
             "#ed7953"
            ],
            [
             0.7777777777777778,
             "#fb9f3a"
            ],
            [
             0.8888888888888888,
             "#fdca26"
            ],
            [
             1,
             "#f0f921"
            ]
           ],
           "sequentialminus": [
            [
             0,
             "#0d0887"
            ],
            [
             0.1111111111111111,
             "#46039f"
            ],
            [
             0.2222222222222222,
             "#7201a8"
            ],
            [
             0.3333333333333333,
             "#9c179e"
            ],
            [
             0.4444444444444444,
             "#bd3786"
            ],
            [
             0.5555555555555556,
             "#d8576b"
            ],
            [
             0.6666666666666666,
             "#ed7953"
            ],
            [
             0.7777777777777778,
             "#fb9f3a"
            ],
            [
             0.8888888888888888,
             "#fdca26"
            ],
            [
             1,
             "#f0f921"
            ]
           ]
          },
          "colorway": [
           "#636efa",
           "#EF553B",
           "#00cc96",
           "#ab63fa",
           "#FFA15A",
           "#19d3f3",
           "#FF6692",
           "#B6E880",
           "#FF97FF",
           "#FECB52"
          ],
          "font": {
           "color": "#2a3f5f"
          },
          "geo": {
           "bgcolor": "white",
           "lakecolor": "white",
           "landcolor": "#E5ECF6",
           "showlakes": true,
           "showland": true,
           "subunitcolor": "white"
          },
          "hoverlabel": {
           "align": "left"
          },
          "hovermode": "closest",
          "mapbox": {
           "style": "light"
          },
          "paper_bgcolor": "white",
          "plot_bgcolor": "#E5ECF6",
          "polar": {
           "angularaxis": {
            "gridcolor": "white",
            "linecolor": "white",
            "ticks": ""
           },
           "bgcolor": "#E5ECF6",
           "radialaxis": {
            "gridcolor": "white",
            "linecolor": "white",
            "ticks": ""
           }
          },
          "scene": {
           "xaxis": {
            "backgroundcolor": "#E5ECF6",
            "gridcolor": "white",
            "gridwidth": 2,
            "linecolor": "white",
            "showbackground": true,
            "ticks": "",
            "zerolinecolor": "white"
           },
           "yaxis": {
            "backgroundcolor": "#E5ECF6",
            "gridcolor": "white",
            "gridwidth": 2,
            "linecolor": "white",
            "showbackground": true,
            "ticks": "",
            "zerolinecolor": "white"
           },
           "zaxis": {
            "backgroundcolor": "#E5ECF6",
            "gridcolor": "white",
            "gridwidth": 2,
            "linecolor": "white",
            "showbackground": true,
            "ticks": "",
            "zerolinecolor": "white"
           }
          },
          "shapedefaults": {
           "line": {
            "color": "#2a3f5f"
           }
          },
          "ternary": {
           "aaxis": {
            "gridcolor": "white",
            "linecolor": "white",
            "ticks": ""
           },
           "baxis": {
            "gridcolor": "white",
            "linecolor": "white",
            "ticks": ""
           },
           "bgcolor": "#E5ECF6",
           "caxis": {
            "gridcolor": "white",
            "linecolor": "white",
            "ticks": ""
           }
          },
          "title": {
           "x": 0.05
          },
          "xaxis": {
           "automargin": true,
           "gridcolor": "white",
           "linecolor": "white",
           "ticks": "",
           "title": {
            "standoff": 15
           },
           "zerolinecolor": "white",
           "zerolinewidth": 2
          },
          "yaxis": {
           "automargin": true,
           "gridcolor": "white",
           "linecolor": "white",
           "ticks": "",
           "title": {
            "standoff": 15
           },
           "zerolinecolor": "white",
           "zerolinewidth": 2
          }
         }
        },
        "title": {
         "text": "3D Surface Plot"
        },
        "width": 500
       }
      }
     },
     "metadata": {},
     "output_type": "display_data"
    }
   ],
   "source": [
    "fig = go.Figure(\n",
    "    data=[\n",
    "        go.Surface(\n",
    "            x=x, y=y, z=vec.reshape(reduced_x_len, reduced_y_len), colorscale=\"Viridis\"\n",
    "        )\n",
    "    ]\n",
    ")\n",
    "fig.update_layout(\n",
    "    title=\"3D Surface Plot\",\n",
    "    autosize=False,\n",
    "    width=500,\n",
    "    height=500,\n",
    "    margin=dict(l=65, r=50, b=65, t=90),\n",
    ")\n",
    "fig.show()\n",
    "os.makedirs(\"figs\", exist_ok=True)\n",
    "fig.write_html(\"figs/surface_plot.html\")\n",
    "fig.write_image(\"figs/surface_plot.png\")\n",
    "fig.write_image(\"figs/surface_plot.pdf\")"
   ]
  },
  {
   "cell_type": "code",
   "execution_count": 100,
   "metadata": {},
   "outputs": [],
   "source": [
    "err = []\n",
    "meshes = np.array([4, 5, 10, 15, 20, 40, 60, 80, 100])\n",
    "for i in meshes:\n",
    "    x = np.linspace(0, 1, i)\n",
    "    y = np.linspace(0, 1, i)\n",
    "    mel = Mel2d(x, y)\n",
    "    p, t, b = mel.generate_mesh()\n",
    "    K = mel.stiffness_matrix()\n",
    "    M = mel.mass_matrix()\n",
    "    K_dirichlet = mel.remove_row_col_csr(K, b, b)\n",
    "    M_dirichlet = mel.remove_row_col_csr(M, b, b)\n",
    "    val, vec = eigsh(K_dirichlet, 1, M_dirichlet, sigma=0, which=\"LM\")\n",
    "    err.append((val - 2 * np.pi**2) / (2 * np.pi**2))"
   ]
  },
  {
   "cell_type": "code",
   "execution_count": 101,
   "metadata": {},
   "outputs": [
    {
     "data": {
      "text/plain": [
       "[array([0.28557756]),\n",
       " array([0.15839374]),\n",
       " array([0.03062984]),\n",
       " array([0.01261726]),\n",
       " array([0.00684327]),\n",
       " array([0.00162269]),\n",
       " array([0.00070891]),\n",
       " array([0.00039538]),\n",
       " array([0.00025176])]"
      ]
     },
     "execution_count": 101,
     "metadata": {},
     "output_type": "execute_result"
    }
   ],
   "source": [
    "err"
   ]
  },
  {
   "cell_type": "code",
   "execution_count": 102,
   "metadata": {},
   "outputs": [
    {
     "data": {
      "text/plain": [
       "[<matplotlib.lines.Line2D at 0x7bc12121f430>]"
      ]
     },
     "execution_count": 102,
     "metadata": {},
     "output_type": "execute_result"
    },
    {
     "data": {
      "image/png": "[encoded data removed]",
      "text/plain": [
       "<Figure size 640x480 with 1 Axes>"
      ]
     },
     "metadata": {},
     "output_type": "display_data"
    }
   ],
   "source": [
    "fig, ax = plt.subplots()\n",
    "ax.plot(1 / meshes, err)"
   ]
  },
  {
   "cell_type": "code",
   "execution_count": 103,
   "metadata": {},
   "outputs": [
    {
     "data": {
      "text/plain": [
       "[<matplotlib.lines.Line2D at 0x7bc120770760>]"
      ]
     },
     "execution_count": 103,
     "metadata": {},
     "output_type": "execute_result"
    },
    {
     "data": {
      "image/png": "[encoded data removed]",
      "text/plain": [
       "<Figure size 640x480 with 1 Axes>"
      ]
     },
     "metadata": {},
     "output_type": "display_data"
    }
   ],
   "source": [
    "fig, ax = plt.subplots()\n",
    "ax.plot(1 / meshes, np.sqrt(err))"
   ]
  },
  {
   "cell_type": "code",
   "execution_count": null,
   "metadata": {},
   "outputs": [],
   "source": []
  }
 ],
 "metadata": {
  "kernelspec": {
   "display_name": "physics",
   "language": "python",
   "name": "python3"
  },
  "language_info": {
   "codemirror_mode": {
    "name": "ipython",
    "version": 3
   },
   "file_extension": ".py",
   "mimetype": "text/x-python",
   "name": "python",
   "nbconvert_exporter": "python",
   "pygments_lexer": "ipython3",
   "version": "3.10.12"
  }
 },
 "nbformat": 4,
 "nbformat_minor": 2
}
