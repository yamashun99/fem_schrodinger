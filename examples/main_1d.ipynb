{
 "cells": [
  {
   "cell_type": "code",
   "execution_count": 14,
   "metadata": {},
   "outputs": [],
   "source": [
    "import sys\n",
    "\n",
    "sys.path.append(\"..\")\n",
    "import numpy as np\n",
    "from scipy.sparse.linalg import eigsh\n",
    "import src.fem_1d_eigen\n",
    "import importlib\n",
    "\n",
    "importlib.reload(src.fem_1d_eigen)\n",
    "from src.fem_1d_eigen import *"
   ]
  },
  {
   "cell_type": "code",
   "execution_count": 15,
   "metadata": {},
   "outputs": [],
   "source": [
    "v = np.array([1, 2, 3, 4, 5, 6, 7, 8, 9])\n",
    "femeig = Fem1dEigen(v)\n",
    "K = femeig.get_K()\n",
    "M = femeig.get_M()"
   ]
  },
  {
   "cell_type": "code",
   "execution_count": 16,
   "metadata": {},
   "outputs": [],
   "source": [
    "val, vec = eigsh(K, k=3, which=\"SM\")"
   ]
  },
  {
   "cell_type": "code",
   "execution_count": 17,
   "metadata": {},
   "outputs": [
    {
     "data": {
      "text/plain": [
       "(array([-6.01804415e-16,  1.20614758e-01,  4.67911114e-01]),\n",
       " array([[ 3.33333333e-01, -4.64242827e-01, -4.42975350e-01],\n",
       "        [ 3.33333333e-01, -4.08248290e-01, -2.35702260e-01],\n",
       "        [ 3.33333333e-01, -3.03012985e-01,  8.18585360e-02],\n",
       "        [ 3.33333333e-01, -1.61229842e-01,  3.61116814e-01],\n",
       "        [ 3.33333333e-01, -1.11022302e-16,  4.71404521e-01],\n",
       "        [ 3.33333333e-01,  1.61229842e-01,  3.61116814e-01],\n",
       "        [ 3.33333333e-01,  3.03012985e-01,  8.18585360e-02],\n",
       "        [ 3.33333333e-01,  4.08248290e-01, -2.35702260e-01],\n",
       "        [ 3.33333333e-01,  4.64242827e-01, -4.42975350e-01]]))"
      ]
     },
     "execution_count": 17,
     "metadata": {},
     "output_type": "execute_result"
    }
   ],
   "source": [
    "val, vec"
   ]
  }
 ],
 "metadata": {
  "kernelspec": {
   "display_name": "physicsenv",
   "language": "python",
   "name": "python3"
  },
  "language_info": {
   "codemirror_mode": {
    "name": "ipython",
    "version": 3
   },
   "file_extension": ".py",
   "mimetype": "text/x-python",
   "name": "python",
   "nbconvert_exporter": "python",
   "pygments_lexer": "ipython3",
   "version": "3.10.12"
  }
 },
 "nbformat": 4,
 "nbformat_minor": 2
}
