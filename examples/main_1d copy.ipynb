{
 "cells": [
  {
   "cell_type": "code",
   "execution_count": 1,
   "metadata": {},
   "outputs": [],
   "source": [
    "import sys\n",
    "\n",
    "sys.path.append(\"..\")"
   ]
  },
  {
   "cell_type": "code",
   "execution_count": 2,
   "metadata": {},
   "outputs": [
    {
     "data": {
      "text/plain": [
       "<module 'src.fem_1d_eigen' from '/home/yamamoto/physics/fem/fem_schrodinger/examples/../src/fem_1d_eigen.py'>"
      ]
     },
     "execution_count": 2,
     "metadata": {},
     "output_type": "execute_result"
    }
   ],
   "source": [
    "import numpy as np\n",
    "import matplotlib.pyplot as plt\n",
    "from scipy.constants import hbar, m_e, eV, epsilon_0, e, physical_constants\n",
    "from scipy.sparse.linalg import eigsh\n",
    "from scipy.linalg import eigh, eig\n",
    "import src.fem_1d_eigen\n",
    "import importlib\n",
    "from src.fem_1d_eigen import *\n",
    "\n",
    "importlib.reload(src.fem_1d_eigen)"
   ]
  },
  {
   "cell_type": "code",
   "execution_count": 3,
   "metadata": {},
   "outputs": [],
   "source": [
    "R = physical_constants[\"Bohr radius\"][0]"
   ]
  },
  {
   "cell_type": "code",
   "execution_count": 4,
   "metadata": {},
   "outputs": [],
   "source": [
    "# xs = np.linspace(1e-20, 1e-9, 1000)\n",
    "# v = -1 / xs\n",
    "xs = np.array([0, 1, 2, 3, 4])\n",
    "# v = np.ones_like(xs)\n",
    "v = xs"
   ]
  },
  {
   "cell_type": "code",
   "execution_count": 5,
   "metadata": {},
   "outputs": [
    {
     "name": "stderr",
     "output_type": "stream",
     "text": [
      "/tmp/ipykernel_152333/2418824513.py:9: RuntimeWarning: k >= N for N * N square matrix. Attempting to use scipy.linalg.eigh instead.\n",
      "  val, vec = eigsh(\n"
     ]
    }
   ],
   "source": [
    "femeig = Fem1dEigen(xs, v)\n",
    "K = femeig.get_K()\n",
    "M = femeig.get_M()\n",
    "V = femeig.get_V()\n",
    "K_dirichlet = K[1:-1, 1:-1]\n",
    "M_dirichlet = M[1:-1, 1:-1]\n",
    "V_dirichlet = V[1:-1, 1:-1]\n",
    "k = 3\n",
    "val, vec = eigsh(\n",
    "    K_dirichlet + V_dirichlet,\n",
    "    k=k,\n",
    "    M=M_dirichlet,\n",
    "    which=\"LA\",\n",
    "    sigma=0,\n",
    ")\n",
    "\n",
    "# val, vec = eig(\n",
    "#    K_dirichlet + V_dirichlet,\n",
    "#    M_dirichlet,\n",
    "# )"
   ]
  },
  {
   "cell_type": "code",
   "execution_count": 6,
   "metadata": {},
   "outputs": [
    {
     "data": {
      "text/plain": [
       "array([[-1.,  1.,  0.,  0.,  0.],\n",
       "       [ 1., -2.,  1.,  0.,  0.],\n",
       "       [ 0.,  1., -2.,  1.,  0.],\n",
       "       [ 0.,  0.,  1., -2.,  1.],\n",
       "       [ 0.,  0.,  0.,  1., -1.]])"
      ]
     },
     "execution_count": 6,
     "metadata": {},
     "output_type": "execute_result"
    }
   ],
   "source": [
    "K"
   ]
  },
  {
   "cell_type": "code",
   "execution_count": 7,
   "metadata": {},
   "outputs": [
    {
     "data": {
      "text/plain": [
       "array([[0.33333333, 0.16666667, 0.        , 0.        , 0.        ],\n",
       "       [0.16666667, 0.66666667, 0.16666667, 0.        , 0.        ],\n",
       "       [0.        , 0.16666667, 0.66666667, 0.16666667, 0.        ],\n",
       "       [0.        , 0.        , 0.16666667, 0.66666667, 0.16666667],\n",
       "       [0.        , 0.        , 0.        , 0.16666667, 0.33333333]])"
      ]
     },
     "execution_count": 7,
     "metadata": {},
     "output_type": "execute_result"
    }
   ],
   "source": [
    "M"
   ]
  },
  {
   "cell_type": "code",
   "execution_count": 8,
   "metadata": {},
   "outputs": [
    {
     "data": {
      "text/plain": [
       "array([[ 1.,  1.,  0.,  0.,  0.],\n",
       "       [ 1.,  8.,  3.,  0.,  0.],\n",
       "       [ 0.,  3., 16.,  5.,  0.],\n",
       "       [ 0.,  0.,  5., 24.,  7.],\n",
       "       [ 0.,  0.,  0.,  7., 15.]])"
      ]
     },
     "execution_count": 8,
     "metadata": {},
     "output_type": "execute_result"
    }
   ],
   "source": [
    "V * 12"
   ]
  },
  {
   "cell_type": "code",
   "execution_count": 9,
   "metadata": {},
   "outputs": [
    {
     "data": {
      "text/plain": [
       "array([[-2.,  1.,  0.],\n",
       "       [ 1., -2.,  1.],\n",
       "       [ 0.,  1., -2.]])"
      ]
     },
     "execution_count": 9,
     "metadata": {},
     "output_type": "execute_result"
    }
   ],
   "source": [
    "K_dirichlet"
   ]
  },
  {
   "cell_type": "code",
   "execution_count": 10,
   "metadata": {},
   "outputs": [
    {
     "data": {
      "text/plain": [
       "array([-6.02797186, -1.10002182,  1.55656512])"
      ]
     },
     "execution_count": 10,
     "metadata": {},
     "output_type": "execute_result"
    }
   ],
   "source": [
    "val"
   ]
  },
  {
   "cell_type": "code",
   "execution_count": 11,
   "metadata": {},
   "outputs": [
    {
     "data": {
      "text/plain": [
       "array([[-1.,  1.,  0.,  0.,  0.],\n",
       "       [ 1., -2.,  1.,  0.,  0.],\n",
       "       [ 0.,  1., -2.,  1.,  0.],\n",
       "       [ 0.,  0.,  1., -2.,  1.],\n",
       "       [ 0.,  0.,  0.,  1., -1.]])"
      ]
     },
     "execution_count": 11,
     "metadata": {},
     "output_type": "execute_result"
    }
   ],
   "source": [
    "K"
   ]
  },
  {
   "cell_type": "code",
   "execution_count": 12,
   "metadata": {},
   "outputs": [
    {
     "data": {
      "text/plain": [
       "array([[0.08333333, 0.08333333, 0.        , 0.        , 0.        ],\n",
       "       [0.08333333, 0.66666667, 0.25      , 0.        , 0.        ],\n",
       "       [0.        , 0.25      , 1.33333333, 0.41666667, 0.        ],\n",
       "       [0.        , 0.        , 0.41666667, 2.        , 0.58333333],\n",
       "       [0.        , 0.        , 0.        , 0.58333333, 1.25      ]])"
      ]
     },
     "execution_count": 12,
     "metadata": {},
     "output_type": "execute_result"
    }
   ],
   "source": [
    "V"
   ]
  },
  {
   "cell_type": "code",
   "execution_count": 25,
   "metadata": {},
   "outputs": [],
   "source": [
    "xs = np.linspace(1e-20, 1e-9, 1000)\n",
    "v = -1 / xs * 0\n",
    "femeig = Fem1dEigen(xs, v)\n",
    "K = femeig.get_K()\n",
    "M = femeig.get_M()\n",
    "V = femeig.get_V()\n",
    "K_dirichlet = K[1:-1, 1:-1]\n",
    "M_dirichlet = M[1:-1, 1:-1]\n",
    "V_dirichlet = V[1:-1, 1:-1]\n",
    "k = 3\n",
    "C0 = hbar**2 / (m_e)\n",
    "C1 = e**2 / (4 * np.pi * epsilon_0)\n",
    "val, vec = eigsh(\n",
    "    -1 / 2 * C0 * K_dirichlet + C1 * V_dirichlet,\n",
    "    k=k,\n",
    "    M=M_dirichlet,\n",
    "    which=\"LA\",\n",
    "    sigma=-20 * eV,\n",
    ")"
   ]
  },
  {
   "cell_type": "code",
   "execution_count": 26,
   "metadata": {},
   "outputs": [
    {
     "data": {
      "image/png": "[encoded data removed]",
      "text/plain": [
       "<Figure size 640x480 with 1 Axes>"
      ]
     },
     "metadata": {},
     "output_type": "display_data"
    }
   ],
   "source": [
    "vec_0 = np.insert(vec, 0, 0, axis=0)\n",
    "vec_0_m1 = np.insert(vec_0, vec_0.shape[0], 0, axis=0)\n",
    "fig, ax = plt.subplots()\n",
    "ax.plot(xs, vec_0_m1[:, 0], label=\"1st\")\n",
    "ax.plot(xs, vec_0_m1[:, 1], label=\"2nd\")\n",
    "ax.plot(xs, vec_0_m1[:, 2], label=\"3rd\")\n",
    "ax.legend()\n",
    "ax.set_xlabel(\"$x$\")\n",
    "ax.set_ylabel(\"$u$\")\n",
    "fig.savefig(\"eigenfunction.pdf\")"
   ]
  },
  {
   "cell_type": "code",
   "execution_count": 15,
   "metadata": {},
   "outputs": [
    {
     "data": {
      "text/plain": [
       "array([-12.75493275,  -3.29109735,  -1.23486794])"
      ]
     },
     "execution_count": 15,
     "metadata": {},
     "output_type": "execute_result"
    }
   ],
   "source": [
    "val / eV"
   ]
  },
  {
   "cell_type": "code",
   "execution_count": 16,
   "metadata": {},
   "outputs": [
    {
     "data": {
      "text/plain": [
       "array([-2.04356552e-18, -5.27291927e-19, -1.97847655e-19])"
      ]
     },
     "execution_count": 16,
     "metadata": {},
     "output_type": "execute_result"
    }
   ],
   "source": [
    "val"
   ]
  },
  {
   "cell_type": "code",
   "execution_count": 17,
   "metadata": {},
   "outputs": [
    {
     "name": "stdout",
     "output_type": "stream",
     "text": [
      "10\n",
      "20\n",
      "30\n",
      "40\n",
      "50\n",
      "60\n",
      "70\n",
      "80\n",
      "90\n",
      "100\n",
      "200\n",
      "300\n",
      "400\n",
      "500\n",
      "600\n",
      "700\n",
      "800\n",
      "900\n"
     ]
    }
   ],
   "source": [
    "vals = []\n",
    "part1 = np.arange(10, 100, 10)\n",
    "part2 = np.arange(100, 1000, 100)\n",
    "combined = np.concatenate((part1, part2))\n",
    "for i in combined:\n",
    "    print(i)\n",
    "    xs = np.linspace(1e-15, 1e-9, i)\n",
    "    v = -1 / xs\n",
    "    femeig = Fem1dEigen(xs, v)\n",
    "    K = femeig.get_K()\n",
    "    M = femeig.get_M()\n",
    "    V = femeig.get_V()\n",
    "    K_dirichlet = K[1:-1, 1:-1]\n",
    "    M_dirichlet = M[1:-1, 1:-1]\n",
    "    V_dirichlet = V[1:-1, 1:-1]\n",
    "    val, vec = eigsh(\n",
    "        -1 / 2 * C0 * K_dirichlet + C1 * V_dirichlet,\n",
    "        k=1,\n",
    "        M=M_dirichlet,\n",
    "        which=\"LM\",\n",
    "        sigma=-20 * eV,\n",
    "    )\n",
    "    vals.append(val)"
   ]
  },
  {
   "cell_type": "code",
   "execution_count": 18,
   "metadata": {},
   "outputs": [
    {
     "data": {
      "text/plain": [
       "array([[ -3.33477227],\n",
       "       [ -4.98087454],\n",
       "       [ -6.03811717],\n",
       "       [ -6.8071917 ],\n",
       "       [ -7.4036172 ],\n",
       "       [ -7.88515945],\n",
       "       [ -8.28501685],\n",
       "       [ -8.62404484],\n",
       "       [ -8.91619114],\n",
       "       [ -9.17122984],\n",
       "       [-10.65967357],\n",
       "       [-11.34693533],\n",
       "       [-11.74333516],\n",
       "       [-11.99680746],\n",
       "       [-12.16740798],\n",
       "       [-12.2840517 ],\n",
       "       [-12.36194378],\n",
       "       [-12.40916276]])"
      ]
     },
     "execution_count": 18,
     "metadata": {},
     "output_type": "execute_result"
    }
   ],
   "source": [
    "np.array(vals) / eV"
   ]
  },
  {
   "cell_type": "code",
   "execution_count": 19,
   "metadata": {},
   "outputs": [
    {
     "data": {
      "text/plain": [
       "13.605693122994"
      ]
     },
     "execution_count": 19,
     "metadata": {},
     "output_type": "execute_result"
    }
   ],
   "source": [
    "Ry = physical_constants[\"Rydberg constant times hc in eV\"][0]\n",
    "Ry"
   ]
  },
  {
   "cell_type": "code",
   "execution_count": 20,
   "metadata": {},
   "outputs": [
    {
     "data": {
      "text/plain": [
       "array([-1.98816706e-18])"
      ]
     },
     "execution_count": 20,
     "metadata": {},
     "output_type": "execute_result"
    }
   ],
   "source": [
    "val"
   ]
  },
  {
   "cell_type": "code",
   "execution_count": 21,
   "metadata": {},
   "outputs": [
    {
     "name": "stdout",
     "output_type": "stream",
     "text": [
      "[1.]\n"
     ]
    },
    {
     "data": {
      "image/png": "[encoded data removed]",
      "text/plain": [
       "<Figure size 640x480 with 1 Axes>"
      ]
     },
     "metadata": {},
     "output_type": "display_data"
    }
   ],
   "source": [
    "fig, ax = plt.subplots()\n",
    "ax.plot(1 / combined, np.abs(-Ry - np.array(vals) / eV) / (Ry))\n",
    "ax.set_xlabel(\"$h$\")\n",
    "ax.set_ylabel(\"relative error\")\n",
    "print((np.pi**2 - vals[-1]) / (np.pi**2))\n",
    "fig.savefig(\"convergence.pdf\")"
   ]
  },
  {
   "cell_type": "code",
   "execution_count": 22,
   "metadata": {},
   "outputs": [
    {
     "data": {
      "text/plain": [
       "1.602176634e-19"
      ]
     },
     "execution_count": 22,
     "metadata": {},
     "output_type": "execute_result"
    }
   ],
   "source": [
    "eV"
   ]
  },
  {
   "cell_type": "code",
   "execution_count": 23,
   "metadata": {},
   "outputs": [
    {
     "data": {
      "text/plain": [
       "-13.266951688673798"
      ]
     },
     "execution_count": 23,
     "metadata": {},
     "output_type": "execute_result"
    }
   ],
   "source": [
    "-2.1256e-18 / eV"
   ]
  },
  {
   "cell_type": "code",
   "execution_count": null,
   "metadata": {},
   "outputs": [],
   "source": []
  }
 ],
 "metadata": {
  "kernelspec": {
   "display_name": "physicsenv",
   "language": "python",
   "name": "python3"
  },
  "language_info": {
   "codemirror_mode": {
    "name": "ipython",
    "version": 3
   },
   "file_extension": ".py",
   "mimetype": "text/x-python",
   "name": "python",
   "nbconvert_exporter": "python",
   "pygments_lexer": "ipython3",
   "version": "3.10.12"
  }
 },
 "nbformat": 4,
 "nbformat_minor": 2
}
